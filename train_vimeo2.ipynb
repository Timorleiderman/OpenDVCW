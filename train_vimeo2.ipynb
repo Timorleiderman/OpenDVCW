{
 "cells": [
  {
   "cell_type": "code",
   "execution_count": 1,
   "metadata": {},
   "outputs": [
    {
     "name": "stdout",
     "output_type": "stream",
     "text": [
      "/workspaces/tensorflow-wavelets\n"
     ]
    },
    {
     "name": "stderr",
     "output_type": "stream",
     "text": [
      "2022-01-31 19:34:26.002668: I tensorflow/stream_executor/platform/default/dso_loader.cc:53] Successfully opened dynamic library libcudart.so.11.0\n"
     ]
    }
   ],
   "source": [
    "%pwd \n",
    "%cd /workspaces/tensorflow-wavelets\n",
    "import OpenDVC\n",
    "import numpy as np\n",
    "import load\n",
    "import tensorflow as tf\n",
    "import matplotlib.pyplot as plt"
   ]
  },
  {
   "cell_type": "code",
   "execution_count": null,
   "metadata": {},
   "outputs": [],
   "source": [
    "batch_size = 1\n",
    "EPOCHS = 15\n",
    "Height = 240\n",
    "Width = 240\n",
    "Channel = 3\n",
    "lmbda = 256\n",
    "lr_init = 1e-4\n",
    "samples = 1200\n",
    "I_QP=27\n",
    "\n",
    "args = OpenDVC.Arguments()\n",
    "\n",
    "last_stop = 164\n",
    "for i in range(1000):\n",
    "    print(\"Iteration number\", i)\n",
    "    checkponts_last_path = \"checkpoints_testME4_no_norm{}/\".format(last_stop+i)\n",
    "    checkponts_new_path = \"checkpoints_testME4_no_norm{}/\".format(last_stop+i+1)\n",
    "\n",
    "    model = OpenDVC.OpenDVC(width=Width, height=Height, batch_size=batch_size, num_filters=128, lmbda=lmbda)\n",
    "    # model.summary()\n",
    "    model.compile(\n",
    "        optimizer=tf.keras.optimizers.Adam(learning_rate=lr_init),\n",
    "    )\n",
    "    print(\"* [Model compiled]...\")\n",
    "\n",
    "    print(\"* [Loading dataset]...\")\n",
    "    data = load.load_data_vimeo90k(\"/mnt/WindowsDev/Developer/tensorflow-wavelets/folder_cloud.npy\", samples, Height, Width, Channel, I_QP)\n",
    "\n",
    "    dataset = tf.data.Dataset.from_tensor_slices(data)\n",
    "    print(\"Loading weights\")\n",
    "    \n",
    "    model.load_weights(checkponts_last_path)\n",
    "    print(\"Going to fit\")\n",
    "\n",
    "    hist = model.fit(\n",
    "            dataset,\n",
    "            epochs=EPOCHS, \n",
    "            verbose=1, \n",
    "            callbacks=\n",
    "                [\n",
    "                OpenDVC.MemoryCallback(),\n",
    "                tf.keras.callbacks.ModelCheckpoint(filepath=checkponts_new_path, save_weights_only=True, save_freq='epoch',monitor=\"loss\",mode='min',  save_best_only=True, verbose=1), \n",
    "                tf.keras.callbacks.TerminateOnNaN(),\n",
    "                tf.keras.callbacks.EarlyStopping(monitor='loss', patience=3),\n",
    "                tf.keras.callbacks.TensorBoard(log_dir=args.backup_restore, histogram_freq=0, update_freq=\"epoch\"),            \n",
    "                ],\n",
    "\n",
    "            )  \n",
    "\n",
    "    path = load.load_random_path(\"/mnt/WindowsDev/Developer/tensorflow-wavelets/folder_cloud.npy\")\n",
    "    out_bin = \"/workspaces/tensorflow-wavelets/Development/OpenDVC/Test_com/test{}.bin\".format(i)\n",
    "    out_decom = \"/workspaces/tensorflow-wavelets/Development/OpenDVC/Test_com/testdcom{}.png\".format(i)\n",
    "    p_on_test = \"/workspaces/tensorflow-wavelets/Development/OpenDVC/Test_com/test_p_frame{}.png\".format(i)\n",
    "    i_on_test = \"/workspaces/tensorflow-wavelets/Development/OpenDVC/Test_com/test_i_frame{}.png\".format(i)\n",
    "\n",
    "    i_frame = path + 'im1' + '.png'\n",
    "    p_frame = path + 'im2' + '.png'\n",
    "    print(i_frame)\n",
    "\n",
    "    OpenDVC.write_png(p_on_test, OpenDVC.read_png_crop(p_frame, 240, 240))\n",
    "    OpenDVC.write_png(i_on_test, OpenDVC.read_png_crop(i_frame, 240, 240))\n",
    "\n",
    "    OpenDVC.compress(model, i_frame, p_frame, out_bin, 240, 240)\n",
    "    OpenDVC.decompress(model, i_frame, out_bin, out_decom, 240, 240)\n"
   ]
  }
 ],
 "metadata": {
  "interpreter": {
   "hash": "31f2aee4e71d21fbe5cf8b01ff0e069b9275f58929596ceb00d14d90e3e16cd6"
  },
  "kernelspec": {
   "display_name": "Python 3.8.10 64-bit",
   "language": "python",
   "name": "python3"
  },
  "language_info": {
   "codemirror_mode": {
    "name": "ipython",
    "version": 3
   },
   "file_extension": ".py",
   "mimetype": "text/x-python",
   "name": "python",
   "nbconvert_exporter": "python",
   "pygments_lexer": "ipython3",
   "version": "3.8.10"
  },
  "orig_nbformat": 4
 },
 "nbformat": 4,
 "nbformat_minor": 2
}
