{
 "cells": [
  {
   "cell_type": "code",
   "execution_count": null,
   "metadata": {},
   "outputs": [],
   "source": [
    "%pwd "
   ]
  },
  {
   "cell_type": "code",
   "execution_count": null,
   "metadata": {},
   "outputs": [],
   "source": [
    "# %cd /home/ubu-admin/Developer/tensorflow-wavelets\n",
    "%cd /workspaces/OpenDVCW\n",
    "from train import TrainOpenDVCW\n",
    "import numpy as np\n",
    "import load\n",
    "import OpenDVCW"
   ]
  },
  {
   "cell_type": "code",
   "execution_count": null,
   "metadata": {},
   "outputs": [],
   "source": [
    "%load_ext tensorboard\n"
   ]
  },
  {
   "cell_type": "code",
   "execution_count": null,
   "metadata": {},
   "outputs": [],
   "source": [
    "np_folder = \"train_set_iqp22.npy\"\n",
    "\n",
    "BATCH_SIZE = 1\n",
    "EPOCHS = 5\n",
    "STEPS_PER_EPOCH = len(np.load(np_folder))\n",
    "STEPS_PER_EPOCH = 100\n",
    "Height = 240\n",
    "Width = 240\n",
    "Channel = 3\n",
    "NUM_FILTERS = 256\n",
    "MV_KERNEL_SIZE=3\n",
    "RES_KERNEL_SIZE=5\n",
    "M=256\n",
    "lmbda = 2048\n",
    "lr_init = 1e-4\n",
    "lr_alpha = 1e-8\n",
    "early_stop = 2\n",
    "I_QP=22\n",
    "wavelet_name = \"haar\"\n",
    "\n",
    "checkponts_prev_path = \"\"\n",
    "checkpoints_target_path = \"\"\n"
   ]
  },
  {
   "cell_type": "code",
   "execution_count": null,
   "metadata": {},
   "outputs": [],
   "source": [
    "# img_path = load.load_path_n(\"folder_cloud_test.npy\", 0)\n",
    "img_path = \"/mnt/WindowsDev/DataSets/Beauty_1920x1080_120fps_420_8bit_YUV_RAW/\"\n",
    "i_frame = img_path + 'im0' + '.png'\n",
    "p_frame = img_path + 'im1' + '.png'\n",
    "out_bin = \"Test_com/test{}.bin\".format(0)\n",
    "out_decom = \"Test_com/testdcom{}.png\".format(0)\n",
    "\n",
    "p_on_test = \"Test_com/test_p_frame{}.png\".format(0)\n",
    "i_on_test = \"Test_com/test_i_frame{}.png\".format(0)\n",
    "\n",
    "OpenDVCW.write_png(p_on_test, OpenDVCW.read_png_crop(p_frame, Width, Height))\n",
    "OpenDVCW.write_png(i_on_test, OpenDVCW.read_png_crop(i_frame, Width, Height))"
   ]
  },
  {
   "cell_type": "code",
   "execution_count": null,
   "metadata": {},
   "outputs": [],
   "source": [
    "I_QP=27\n",
    "lmbda = 16384\n",
    "np_folder = \"train_set_iqp27.npy\"\n",
    "checkponts_prev_path = \"/mnt/WindowsDev/PreTainedModels/OpenDVCW/HAAR200k/checkpoints_wavelets_haar_Lmbd_65536_nfilt_256_epcs_5_stps_200000_I_QP_22_240x240_CosineDecay_20221205-085653/\"\n",
    "# checkponts_prev_path = \"\"\n",
    "checkpoints_target_path = \"\"\n",
    "trainer_16384 = TrainOpenDVCW(BATCH_SIZE, EPOCHS, STEPS_PER_EPOCH,\n",
    "                           Height, Width, Channel, NUM_FILTERS, MV_KERNEL_SIZE, RES_KERNEL_SIZE, M,\n",
    "                           lmbda, lr_init, lr_alpha, early_stop,\n",
    "                           I_QP, wavelet_name, checkponts_prev_path, checkpoints_target_path, np_folder)\n",
    "trainer_16384.compile()\n",
    "trainer_16384.fit()\n",
    "trainer_16384.save()\n",
    "# trainer_16384.test(i_frame, p_frame, out_bin, out_decom)"
   ]
  },
  {
   "cell_type": "code",
   "execution_count": null,
   "metadata": {},
   "outputs": [],
   "source": [
    "import tensorflow as tf\n",
    "i_frame = \"/mnt/WindowsDev/DataSets/Beauty_1920x1080_120fps_420_8bit_YUV_RAW/im0.png\"\n",
    "p_frame = \"/mnt/WindowsDev/DataSets/Beauty_1920x1080_120fps_420_8bit_YUV_RAW/im15.png\"\n",
    "comp_bin = \"/workspaces/OpenDVCW/Test_com/tmp/tmp.bin\"\n",
    "recon_frame = \"/workspaces/OpenDVCW/Test_com/tmp/recon.png\"\n",
    "motion_flow = \"/workspaces/OpenDVCW/Test_com/tmp/flow.png\"\n",
    "width = 240\n",
    "height = 240\n",
    "channels = 3\n",
    "\n",
    "Y0_com = OpenDVCW.read_png_crop(i_frame, width, height)\n",
    "Y1_raw = OpenDVCW.read_png_crop(p_frame, width, height) \n",
    "Y0_com = tf.expand_dims(Y0_com, 0)\n",
    "Y1_raw = tf.expand_dims(Y1_raw, 0)\n",
    "Y0_com = tf.cast(Y0_com / 255, dtype=tf.float32)\n",
    "Y1_raw = tf.cast(Y1_raw / 255, dtype=tf.float32)\n",
    "\n",
    "flow_tensor = trainer_16384.model.optical_flow([Y0_com, Y1_raw])"
   ]
  },
  {
   "cell_type": "code",
   "execution_count": null,
   "metadata": {},
   "outputs": [],
   "source": [
    "I_QP=32\n",
    "lmbda = 4096\n",
    "np_folder = \"train_set_iqp32.npy\"\n",
    "checkponts_prev_path = \"\"\n",
    "checkpoints_target_path = \"\"\n",
    "trainer_4096 = TrainOpenDVCW(BATCH_SIZE, EPOCHS, STEPS_PER_EPOCH,\n",
    "                           Height, Width, Channel, NUM_FILTERS, MV_KERNEL_SIZE, RES_KERNEL_SIZE, M,\n",
    "                           lmbda, lr_init, lr_alpha, early_stop,\n",
    "                           I_QP, wavelet_name, checkponts_prev_path, checkpoints_target_path, np_folder)\n",
    "trainer_4096.compile()\n",
    "trainer_4096.fit()\n",
    "trainer_4096.save()\n",
    "trainer_4096.test(i_frame, p_frame, out_bin, out_decom)"
   ]
  },
  {
   "cell_type": "code",
   "execution_count": null,
   "metadata": {},
   "outputs": [],
   "source": [
    "I_QP=37\n",
    "lmbda = 1024\n",
    "np_folder = \"train_set_iqp37.npy\"\n",
    "checkponts_prev_path = \"\"\n",
    "checkpoints_target_path = \"\"\n",
    "trainer_1024 = TrainOpenDVCW(BATCH_SIZE, EPOCHS, STEPS_PER_EPOCH,\n",
    "                           Height, Width, Channel, NUM_FILTERS, MV_KERNEL_SIZE, RES_KERNEL_SIZE, M,\n",
    "                           lmbda, lr_init, lr_alpha, early_stop,\n",
    "                           I_QP, wavelet_name, checkponts_prev_path, checkpoints_target_path, np_folder)\n",
    "trainer_1024.compile()\n",
    "trainer_1024.fit()\n",
    "trainer_1024.save()\n",
    "trainer_1024.test(i_frame, p_frame, out_bin, out_decom)"
   ]
  },
  {
   "cell_type": "code",
   "execution_count": null,
   "metadata": {},
   "outputs": [],
   "source": [
    "I_QP=42\n",
    "lmbda = 256\n",
    "np_folder = \"train_set_iqp42.npy\"\n",
    "checkponts_prev_path = \"\"\n",
    "checkpoints_target_path = \"\"\n",
    "trainer_256 = TrainOpenDVCW(BATCH_SIZE, EPOCHS, STEPS_PER_EPOCH,\n",
    "                           Height, Width, Channel, NUM_FILTERS, MV_KERNEL_SIZE, RES_KERNEL_SIZE, M,\n",
    "                           lmbda, lr_init, lr_alpha, early_stop,\n",
    "                           I_QP, wavelet_name, checkponts_prev_path, checkpoints_target_path, np_folder)\n",
    "trainer_256.compile()\n",
    "trainer_256.fit()\n",
    "trainer_256.save()\n",
    "trainer_256.test(i_frame, p_frame, out_bin, out_decom)"
   ]
  },
  {
   "cell_type": "code",
   "execution_count": null,
   "metadata": {},
   "outputs": [],
   "source": [
    "# trainer_65536.test(i_frame, p_frame, out_bin, out_decom)\n",
    "trainer_16384.test(i_frame, p_frame, out_bin, out_decom)\n",
    "trainer_4096.test(i_frame, p_frame, out_bin, out_decom)\n",
    "trainer_1024.test(i_frame, p_frame, out_bin, out_decom)\n",
    "trainer_256.test(i_frame, p_frame, out_bin, out_decom)"
   ]
  },
  {
   "cell_type": "code",
   "execution_count": null,
   "metadata": {},
   "outputs": [],
   "source": []
  }
 ],
 "metadata": {
  "kernelspec": {
   "display_name": "Python 3.8.10 64-bit",
   "language": "python",
   "name": "python3"
  },
  "language_info": {
   "codemirror_mode": {
    "name": "ipython",
    "version": 3
   },
   "file_extension": ".py",
   "mimetype": "text/x-python",
   "name": "python",
   "nbconvert_exporter": "python",
   "pygments_lexer": "ipython3",
   "version": "3.8.10 (default, Sep 28 2021, 16:10:42) \n[GCC 9.3.0]"
  },
  "vscode": {
   "interpreter": {
    "hash": "31f2aee4e71d21fbe5cf8b01ff0e069b9275f58929596ceb00d14d90e3e16cd6"
   }
  }
 },
 "nbformat": 4,
 "nbformat_minor": 2
}
