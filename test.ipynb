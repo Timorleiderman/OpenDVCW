{
 "cells": [
  {
   "cell_type": "code",
   "execution_count": 1,
   "metadata": {},
   "outputs": [
    {
     "name": "stdout",
     "output_type": "stream",
     "text": [
      "/workspaces/OpenDVCW\n"
     ]
    }
   ],
   "source": [
    "# %cd /home/ubu-admin/Developer/tensorflow-wavelets\n",
    "%cd /workspaces/OpenDVCW\n",
    "import os\n",
    "import load\n",
    "import OpenDVCW\n",
    "import tensorflow as tf\n",
    "from math import log10, sqrt\n",
    "import cv2\n",
    "import numpy as np"
   ]
  },
  {
   "cell_type": "code",
   "execution_count": 2,
   "metadata": {},
   "outputs": [],
   "source": [
    "def PSNR(original, compressed):\n",
    "    mse = np.mean((original - compressed) ** 2)\n",
    "    if(mse == 0):  # MSE is zero means no noise is present in the signal .\n",
    "                  # Therefore PSNR have no importance.\n",
    "        return 100\n",
    "    max_pixel = 255.0\n",
    "    psnr = 20 * log10(max_pixel / sqrt(mse))\n",
    "    return psnr"
   ]
  },
  {
   "cell_type": "code",
   "execution_count": 3,
   "metadata": {},
   "outputs": [],
   "source": [
    "def compare(original_path, compressed_path, binary_path):\n",
    "    original = cv2.imread(original_path)\n",
    "    compressed = cv2.imread(compressed_path)\n",
    "    bin_size = os.path.getsize(binary_path)\n",
    "    value = PSNR(original, compressed)\n",
    "    print(\"bin size: \", bin_size , \"psnr: \", value)"
   ]
  },
  {
   "cell_type": "code",
   "execution_count": 4,
   "metadata": {},
   "outputs": [
    {
     "name": "stdout",
     "output_type": "stream",
     "text": [
      "Loading model\n"
     ]
    },
    {
     "name": "stderr",
     "output_type": "stream",
     "text": [
      "2022-04-23 21:06:34.843103: I tensorflow/stream_executor/cuda/cuda_gpu_executor.cc:936] successful NUMA node read from SysFS had negative value (-1), but there must be at least one NUMA node, so returning NUMA node zero\n",
      "2022-04-23 21:06:34.895580: I tensorflow/stream_executor/cuda/cuda_gpu_executor.cc:936] successful NUMA node read from SysFS had negative value (-1), but there must be at least one NUMA node, so returning NUMA node zero\n",
      "2022-04-23 21:06:34.896594: I tensorflow/stream_executor/cuda/cuda_gpu_executor.cc:936] successful NUMA node read from SysFS had negative value (-1), but there must be at least one NUMA node, so returning NUMA node zero\n"
     ]
    },
    {
     "name": "stdout",
     "output_type": "stream",
     "text": [
      "Model: \"open_dvc\"\n",
      "_________________________________________________________________\n",
      " Layer (type)                Output Shape              Param #   \n",
      "=================================================================\n",
      " mv_analysis (Sequential)    (None, None, None, 128)   659456    \n",
      "                                                                 \n",
      " mv_synthesis (Sequential)   (None, None, None, 2)     642824    \n",
      "                                                                 \n",
      " res_analysis (Sequential)   (None, None, None, 128)   1552640   \n",
      "                                                                 \n",
      " res_synthesis (Sequential)  (None, None, None, 3)     1536015   \n",
      "                                                                 \n",
      " wavelets_optical_flow (Wave  multiple                 240050    \n",
      " letsOpticalFlow)                                                \n",
      "                                                                 \n",
      " motion_compensation (Motion  multiple                 486467    \n",
      " Compensation)                                                   \n",
      "                                                                 \n",
      "=================================================================\n",
      "Total params: 5,117,456\n",
      "Trainable params: 5,117,452\n",
      "Non-trainable params: 4\n",
      "_________________________________________________________________\n"
     ]
    },
    {
     "name": "stderr",
     "output_type": "stream",
     "text": [
      "2022-04-23 21:06:34.901718: I tensorflow/core/platform/cpu_feature_guard.cc:151] This TensorFlow binary is optimized with oneAPI Deep Neural Network Library (oneDNN) to use the following CPU instructions in performance-critical operations:  AVX2 FMA\n",
      "To enable them in other operations, rebuild TensorFlow with the appropriate compiler flags.\n",
      "2022-04-23 21:06:34.906855: I tensorflow/stream_executor/cuda/cuda_gpu_executor.cc:936] successful NUMA node read from SysFS had negative value (-1), but there must be at least one NUMA node, so returning NUMA node zero\n",
      "2022-04-23 21:06:34.907756: I tensorflow/stream_executor/cuda/cuda_gpu_executor.cc:936] successful NUMA node read from SysFS had negative value (-1), but there must be at least one NUMA node, so returning NUMA node zero\n",
      "2022-04-23 21:06:34.908593: I tensorflow/stream_executor/cuda/cuda_gpu_executor.cc:936] successful NUMA node read from SysFS had negative value (-1), but there must be at least one NUMA node, so returning NUMA node zero\n",
      "2022-04-23 21:06:37.939784: I tensorflow/stream_executor/cuda/cuda_gpu_executor.cc:936] successful NUMA node read from SysFS had negative value (-1), but there must be at least one NUMA node, so returning NUMA node zero\n",
      "2022-04-23 21:06:37.941200: I tensorflow/stream_executor/cuda/cuda_gpu_executor.cc:936] successful NUMA node read from SysFS had negative value (-1), but there must be at least one NUMA node, so returning NUMA node zero\n",
      "2022-04-23 21:06:37.942176: I tensorflow/stream_executor/cuda/cuda_gpu_executor.cc:936] successful NUMA node read from SysFS had negative value (-1), but there must be at least one NUMA node, so returning NUMA node zero\n",
      "2022-04-23 21:06:37.943505: I tensorflow/core/common_runtime/gpu/gpu_device.cc:1525] Created device /job:localhost/replica:0/task:0/device:GPU:0 with 10244 MB memory:  -> device: 0, name: NVIDIA GeForce RTX 3060, pci bus id: 0000:00:09.0, compute capability: 8.6\n",
      "2022-04-23 21:07:20.243620: W tensorflow/python/util/util.cc:368] Sets are not currently considered sequences, but this may change in the future, so consider avoiding using them.\n"
     ]
    }
   ],
   "source": [
    "BATCH_SIZE = 1\n",
    "Height = 240\n",
    "Width = 240\n",
    "lmbda = 256\n",
    "print(\"Loading model\")\n",
    "model = tf.keras.models.load_model('model_save_checkpoints_wavelets_sym3_Lmbd_4096_es_600_I_QP_27_240x240_CosineDecay_20220421-201124')\n",
    "# Show the model architecture\n",
    "model.summary()"
   ]
  },
  {
   "cell_type": "code",
   "execution_count": 5,
   "metadata": {},
   "outputs": [],
   "source": [
    "# !rm -r /workspaces/OpenDVCW/Test_com\n",
    "# !mkdir /workspaces/OpenDVCW/Test_com\n",
    "# !mkdir /workspaces/OpenDVCW/Test_com/h264\n",
    "# !mkdir /workspaces/OpenDVCW/Test_com/h265\n",
    "# !mkdir /workspaces/OpenDVCW/Test_com/dvcw"
   ]
  },
  {
   "cell_type": "code",
   "execution_count": 6,
   "metadata": {},
   "outputs": [
    {
     "name": "stdout",
     "output_type": "stream",
     "text": [
      "/mnt/WindowsDev/DataSets/vimeo_septuplet/sequences/00049/0289/im1.png\n",
      "/mnt/WindowsDev/DataSets/vimeo_septuplet/sequences/00049/0289/im2.png\n"
     ]
    }
   ],
   "source": [
    "path = load.load_path_n(\"folder_cloud_test.npy\", 0)\n",
    "p_frame_out_bin = \"Test_com/dvcw/p_frame_dvcw.bin\"\n",
    "out_decom = \"Test_com/dvcw/frame1.png\"\n",
    "i_on_test = \"Test_com/frame0.png\"\n",
    "p_on_test = \"Test_com/frame1.png\"\n",
    "\n",
    "i_frame = path + 'im1' + '.png'\n",
    "p_frame = path + 'im2' + '.png'\n",
    "print(i_frame)\n",
    "print(p_frame)\n"
   ]
  },
  {
   "cell_type": "code",
   "execution_count": 7,
   "metadata": {},
   "outputs": [
    {
     "name": "stdout",
     "output_type": "stream",
     "text": [
      "compress\n"
     ]
    },
    {
     "name": "stderr",
     "output_type": "stream",
     "text": [
      "2022-04-23 21:07:34.235024: I tensorflow/stream_executor/cuda/cuda_dnn.cc:368] Loaded cuDNN version 8100\n"
     ]
    },
    {
     "name": "stdout",
     "output_type": "stream",
     "text": [
      "decompress\n",
      "bin size:  2124 psnr:  41.35339316943596\n"
     ]
    }
   ],
   "source": [
    "\n",
    "\n",
    "# write inputs to disk\n",
    "OpenDVCW.write_png(p_on_test, OpenDVCW.read_png_crop(p_frame, 240, 240))\n",
    "OpenDVCW.write_png(i_on_test, OpenDVCW.read_png_crop(i_frame, 240, 240))\n",
    "\n",
    "\n",
    "OpenDVCW.compress(model, i_frame, p_frame, p_frame_out_bin, 240, 240)\n",
    "OpenDVCW.decompress(model, i_frame, p_frame_out_bin, out_decom, 240, 240)\n",
    "\n",
    "\n",
    "original = cv2.imread(p_on_test)\n",
    "compressed = cv2.imread(out_decom)\n",
    "bin_size = os.path.getsize(p_frame_out_bin)\n",
    "value = PSNR(original, compressed)\n",
    "print(\"bin size: \", bin_size , \"psnr: \", value)"
   ]
  },
  {
   "cell_type": "code",
   "execution_count": 8,
   "metadata": {},
   "outputs": [],
   "source": [
    "# !rm -r /workspaces/OpenDVCW/Test_com/h265/*\n",
    "# !ffmpeg -i /workspaces/OpenDVCW/Test_com/frame%d.png -c:v libx265 -b:v 1k /workspaces/OpenDVCW/Test_com/h265/out.h265\n",
    "# !ffmpeg -i /workspaces/OpenDVCW/Test_com/h265/out.h265 /workspaces/OpenDVCW/Test_com/h265/h265_decom%d.png\n"
   ]
  },
  {
   "cell_type": "code",
   "execution_count": 9,
   "metadata": {},
   "outputs": [],
   "source": [
    "# !rm -r /workspaces/OpenDVCW/Test_com/h264/*\n",
    "# !ffmpeg -i /workspaces/OpenDVCW/Test_com/frame%d.png -c:v libx264 -b:v 200k /workspaces/OpenDVCW/Test_com/h264/out.h264\n",
    "# !ffmpeg -i /workspaces/OpenDVCW/Test_com/h264/out.h264 /workspaces/OpenDVCW/Test_com/h264/h264_decom%d.png"
   ]
  },
  {
   "cell_type": "code",
   "execution_count": 10,
   "metadata": {},
   "outputs": [],
   "source": [
    "# !ffprobe -bsfs /workspaces/OpenDVCW/Test_com/h264/out.h264"
   ]
  },
  {
   "cell_type": "code",
   "execution_count": null,
   "metadata": {},
   "outputs": [],
   "source": []
  },
  {
   "cell_type": "code",
   "execution_count": 17,
   "metadata": {},
   "outputs": [
    {
     "name": "stdout",
     "output_type": "stream",
     "text": [
      "bin size:  2386 psnr:  41.034551519732844\n"
     ]
    }
   ],
   "source": [
    "# h264 test\n",
    "p_frame_h264_decoded = \"/workspaces/OpenDVCW/Test_com/h264/2.4k/decoded_h264_2.png\"\n",
    "h264_bin_path = \"/workspaces/OpenDVCW/Test_com/h264/2.4k/frame1.h264\"\n",
    "compare(p_on_test, p_frame_h264_decoded, h264_bin_path)"
   ]
  },
  {
   "cell_type": "code",
   "execution_count": 19,
   "metadata": {},
   "outputs": [
    {
     "name": "stdout",
     "output_type": "stream",
     "text": [
      "bin size:  3411 psnr:  41.413323638106306\n"
     ]
    }
   ],
   "source": [
    "# h264 test\n",
    "p_frame_h264_decoded = \"/workspaces/OpenDVCW/Test_com/h264/3.4k/decoded_h264_2.png\"\n",
    "h264_bin_path = \"/workspaces/OpenDVCW/Test_com/h264/3.4k/frame1.h264\"\n",
    "compare(p_on_test, p_frame_h264_decoded, h264_bin_path)"
   ]
  },
  {
   "cell_type": "code",
   "execution_count": 18,
   "metadata": {},
   "outputs": [
    {
     "name": "stdout",
     "output_type": "stream",
     "text": [
      "bin size:  4364 psnr:  41.6591254443001\n"
     ]
    }
   ],
   "source": [
    "# h264 test\n",
    "p_frame_h264_decoded = \"/workspaces/OpenDVCW/Test_com/h264/4.4k/decoded_h264_2.png\"\n",
    "h264_bin_path = \"/workspaces/OpenDVCW/Test_com/h264/4.4k/frame1.h264\"\n",
    "compare(p_on_test, p_frame_h264_decoded, h264_bin_path)"
   ]
  },
  {
   "cell_type": "code",
   "execution_count": 14,
   "metadata": {},
   "outputs": [
    {
     "name": "stdout",
     "output_type": "stream",
     "text": [
      "bin size:  2592 psnr:  41.60022022188281\n"
     ]
    }
   ],
   "source": [
    "# h264 test\n",
    "p_frame_h264_decoded = \"/workspaces/OpenDVCW/Test_com/h264/2.6k/decoded_h264_2.png\"\n",
    "h264_bin_path = \"/workspaces/OpenDVCW/Test_com/h264/2.6k/frame1.h264\"\n",
    "compare(p_on_test, p_frame_h264_decoded, h264_bin_path)"
   ]
  },
  {
   "cell_type": "code",
   "execution_count": 21,
   "metadata": {},
   "outputs": [
    {
     "name": "stdout",
     "output_type": "stream",
     "text": [
      "bin size:  2189 psnr:  41.43568704557942\n"
     ]
    }
   ],
   "source": [
    "# h265 test\n",
    "p_frame_h265_decoded = \"/workspaces/OpenDVCW/Test_com/h265/2.1k/decoded_h265_2.png\"\n",
    "h265_bin_path = \"/workspaces/OpenDVCW/Test_com/h265/2.1k/frame1.h265\"\n",
    "compare(p_on_test, p_frame_h265_decoded, h265_bin_path)"
   ]
  },
  {
   "cell_type": "code",
   "execution_count": 20,
   "metadata": {},
   "outputs": [
    {
     "name": "stdout",
     "output_type": "stream",
     "text": [
      "bin size:  2369 psnr:  41.56041669500935\n"
     ]
    }
   ],
   "source": [
    "# h265 test\n",
    "p_frame_h265_decoded = \"/workspaces/OpenDVCW/Test_com/h265/2.5k/decoded_h265_2.png\"\n",
    "h265_bin_path = \"/workspaces/OpenDVCW/Test_com/h265/2.5k/frame1.h265\"\n",
    "compare(p_on_test, p_frame_h265_decoded, h265_bin_path)"
   ]
  },
  {
   "cell_type": "code",
   "execution_count": 16,
   "metadata": {},
   "outputs": [
    {
     "name": "stdout",
     "output_type": "stream",
     "text": [
      "bin size:  785 psnr:  39.70775637987411\n"
     ]
    }
   ],
   "source": []
  },
  {
   "cell_type": "code",
   "execution_count": null,
   "metadata": {},
   "outputs": [],
   "source": []
  }
 ],
 "metadata": {
  "interpreter": {
   "hash": "31f2aee4e71d21fbe5cf8b01ff0e069b9275f58929596ceb00d14d90e3e16cd6"
  },
  "kernelspec": {
   "display_name": "Python 3.8.10 64-bit",
   "language": "python",
   "name": "python3"
  },
  "language_info": {
   "codemirror_mode": {
    "name": "ipython",
    "version": 3
   },
   "file_extension": ".py",
   "mimetype": "text/x-python",
   "name": "python",
   "nbconvert_exporter": "python",
   "pygments_lexer": "ipython3",
   "version": "3.8.10"
  },
  "orig_nbformat": 4
 },
 "nbformat": 4,
 "nbformat_minor": 2
}
