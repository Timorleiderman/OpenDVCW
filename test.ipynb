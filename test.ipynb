{
 "cells": [
  {
   "cell_type": "code",
   "execution_count": 1,
   "metadata": {},
   "outputs": [
    {
     "name": "stdout",
     "output_type": "stream",
     "text": [
      "/workspaces/OpenDVCW\n"
     ]
    }
   ],
   "source": [
    "# %cd /home/ubu-admin/Developer/tensorflow-wavelets\n",
    "%cd /workspaces/OpenDVCW\n",
    "import os\n",
    "import load\n",
    "import OpenDVCW\n",
    "import tensorflow as tf\n",
    "from math import log10, sqrt\n",
    "import cv2\n",
    "import numpy as np"
   ]
  },
  {
   "cell_type": "code",
   "execution_count": 2,
   "metadata": {},
   "outputs": [],
   "source": [
    "def PSNR(original, compressed):\n",
    "    mse = np.mean((original - compressed) ** 2)\n",
    "    if(mse == 0):  # MSE is zero means no noise is present in the signal .\n",
    "                  # Therefore PSNR have no importance.\n",
    "        return 100\n",
    "    max_pixel = 255.0\n",
    "    psnr = 20 * log10(max_pixel / sqrt(mse))\n",
    "    return psnr"
   ]
  },
  {
   "cell_type": "code",
   "execution_count": 3,
   "metadata": {},
   "outputs": [
    {
     "name": "stdout",
     "output_type": "stream",
     "text": [
      "Loading model\n"
     ]
    },
    {
     "name": "stderr",
     "output_type": "stream",
     "text": [
      "2022-04-03 16:54:55.631618: I tensorflow/stream_executor/cuda/cuda_gpu_executor.cc:936] successful NUMA node read from SysFS had negative value (-1), but there must be at least one NUMA node, so returning NUMA node zero\n",
      "2022-04-03 16:54:55.668469: I tensorflow/stream_executor/cuda/cuda_gpu_executor.cc:936] successful NUMA node read from SysFS had negative value (-1), but there must be at least one NUMA node, so returning NUMA node zero\n",
      "2022-04-03 16:54:55.669334: I tensorflow/stream_executor/cuda/cuda_gpu_executor.cc:936] successful NUMA node read from SysFS had negative value (-1), but there must be at least one NUMA node, so returning NUMA node zero\n",
      "2022-04-03 16:54:55.674860: I tensorflow/core/platform/cpu_feature_guard.cc:151] This TensorFlow binary is optimized with oneAPI Deep Neural Network Library (oneDNN) to use the following CPU instructions in performance-critical operations:  AVX2 FMA\n",
      "To enable them in other operations, rebuild TensorFlow with the appropriate compiler flags.\n",
      "2022-04-03 16:54:55.679368: I tensorflow/stream_executor/cuda/cuda_gpu_executor.cc:936] successful NUMA node read from SysFS had negative value (-1), but there must be at least one NUMA node, so returning NUMA node zero\n",
      "2022-04-03 16:54:55.680239: I tensorflow/stream_executor/cuda/cuda_gpu_executor.cc:936] successful NUMA node read from SysFS had negative value (-1), but there must be at least one NUMA node, so returning NUMA node zero\n",
      "2022-04-03 16:54:55.680953: I tensorflow/stream_executor/cuda/cuda_gpu_executor.cc:936] successful NUMA node read from SysFS had negative value (-1), but there must be at least one NUMA node, so returning NUMA node zero\n",
      "2022-04-03 16:54:58.375104: I tensorflow/stream_executor/cuda/cuda_gpu_executor.cc:936] successful NUMA node read from SysFS had negative value (-1), but there must be at least one NUMA node, so returning NUMA node zero\n",
      "2022-04-03 16:54:58.376270: I tensorflow/stream_executor/cuda/cuda_gpu_executor.cc:936] successful NUMA node read from SysFS had negative value (-1), but there must be at least one NUMA node, so returning NUMA node zero\n",
      "2022-04-03 16:54:58.377083: I tensorflow/stream_executor/cuda/cuda_gpu_executor.cc:936] successful NUMA node read from SysFS had negative value (-1), but there must be at least one NUMA node, so returning NUMA node zero\n",
      "2022-04-03 16:54:58.378091: I tensorflow/core/common_runtime/gpu/gpu_device.cc:1525] Created device /job:localhost/replica:0/task:0/device:GPU:0 with 10244 MB memory:  -> device: 0, name: NVIDIA GeForce RTX 3060, pci bus id: 0000:00:09.0, compute capability: 8.6\n"
     ]
    },
    {
     "name": "stdout",
     "output_type": "stream",
     "text": [
      "Model: \"open_dvc\"\n",
      "_________________________________________________________________\n",
      " Layer (type)                Output Shape              Param #   \n",
      "=================================================================\n",
      " mv_analysis (Sequential)    (None, None, None, 128)   659456    \n",
      "                                                                 \n",
      " mv_synthesis (Sequential)   (None, None, None, 2)     642824    \n",
      "                                                                 \n",
      " res_analysis (Sequential)   (None, None, None, 128)   1552640   \n",
      "                                                                 \n",
      " res_synthesis (Sequential)  (None, None, None, 3)     1536015   \n",
      "                                                                 \n",
      " wavelets_optical_flow (Wave  multiple                 240050    \n",
      " letsOpticalFlow)                                                \n",
      "                                                                 \n",
      " motion_compensation (Motion  multiple                 486467    \n",
      " Compensation)                                                   \n",
      "                                                                 \n",
      "=================================================================\n",
      "Total params: 5,117,456\n",
      "Trainable params: 5,117,452\n",
      "Non-trainable params: 4\n",
      "_________________________________________________________________\n"
     ]
    },
    {
     "name": "stderr",
     "output_type": "stream",
     "text": [
      "2022-04-03 16:55:50.349965: W tensorflow/python/util/util.cc:368] Sets are not currently considered sequences, but this may change in the future, so consider avoiding using them.\n"
     ]
    }
   ],
   "source": [
    "BATCH_SIZE = 1\n",
    "Height = 240\n",
    "Width = 240\n",
    "lmbda = 2048\n",
    "print(\"Loading model\")\n",
    "model = tf.keras.models.load_model('model_save_wavelets_L__2048_5_240x240')\n",
    "# Show the model architecture\n",
    "model.summary()"
   ]
  },
  {
   "cell_type": "code",
   "execution_count": 4,
   "metadata": {},
   "outputs": [
    {
     "name": "stdout",
     "output_type": "stream",
     "text": [
      "/mnt/WindowsDev/DataSets/vimeo_septuplet/sequences/00049/0289/im1.png\n",
      "compress\n"
     ]
    },
    {
     "name": "stderr",
     "output_type": "stream",
     "text": [
      "2022-04-03 16:56:15.496812: I tensorflow/stream_executor/cuda/cuda_dnn.cc:368] Loaded cuDNN version 8100\n"
     ]
    },
    {
     "ename": "FileNotFoundError",
     "evalue": "[Errno 2] No such file or directory: 'out_bin'",
     "output_type": "error",
     "traceback": [
      "\u001b[0;31m---------------------------------------------------------------------------\u001b[0m",
      "\u001b[0;31mFileNotFoundError\u001b[0m                         Traceback (most recent call last)",
      "\u001b[1;32m/workspaces/OpenDVCW/test.ipynb Cell 4'\u001b[0m in \u001b[0;36m<cell line: 16>\u001b[0;34m()\u001b[0m\n\u001b[1;32m     <a href='vscode-notebook-cell://dev-container%2B2f686f6d652f7562752d61646d696e2f446576656c6f7065722f4f70656e44564357/workspaces/OpenDVCW/test.ipynb#ch0000002vscode-remote?line=12'>13</a>\u001b[0m OpenDVCW\u001b[39m.\u001b[39mwrite_png(i_on_test, OpenDVCW\u001b[39m.\u001b[39mread_png_crop(i_frame, \u001b[39m240\u001b[39m, \u001b[39m240\u001b[39m))\n\u001b[1;32m     <a href='vscode-notebook-cell://dev-container%2B2f686f6d652f7562752d61646d696e2f446576656c6f7065722f4f70656e44564357/workspaces/OpenDVCW/test.ipynb#ch0000002vscode-remote?line=14'>15</a>\u001b[0m OpenDVCW\u001b[39m.\u001b[39mcompress(model, i_frame, p_frame, out_bin, \u001b[39m240\u001b[39m, \u001b[39m240\u001b[39m)\n\u001b[0;32m---> <a href='vscode-notebook-cell://dev-container%2B2f686f6d652f7562752d61646d696e2f446576656c6f7065722f4f70656e44564357/workspaces/OpenDVCW/test.ipynb#ch0000002vscode-remote?line=15'>16</a>\u001b[0m bin_size \u001b[39m=\u001b[39m os\u001b[39m.\u001b[39;49mpath\u001b[39m.\u001b[39;49mgetsize(\u001b[39m'\u001b[39;49m\u001b[39mout_bin\u001b[39;49m\u001b[39m'\u001b[39;49m)\n\u001b[1;32m     <a href='vscode-notebook-cell://dev-container%2B2f686f6d652f7562752d61646d696e2f446576656c6f7065722f4f70656e44564357/workspaces/OpenDVCW/test.ipynb#ch0000002vscode-remote?line=18'>19</a>\u001b[0m OpenDVCW\u001b[39m.\u001b[39mdecompress(model, i_frame, out_bin, out_decom, \u001b[39m240\u001b[39m, \u001b[39m240\u001b[39m)\n\u001b[1;32m     <a href='vscode-notebook-cell://dev-container%2B2f686f6d652f7562752d61646d696e2f446576656c6f7065722f4f70656e44564357/workspaces/OpenDVCW/test.ipynb#ch0000002vscode-remote?line=20'>21</a>\u001b[0m original \u001b[39m=\u001b[39m cv2\u001b[39m.\u001b[39mimread(p_on_test)\n",
      "File \u001b[0;32m/usr/lib/python3.8/genericpath.py:50\u001b[0m, in \u001b[0;36mgetsize\u001b[0;34m(filename)\u001b[0m\n\u001b[1;32m     <a href='file:///usr/lib/python3.8/genericpath.py?line=47'>48</a>\u001b[0m \u001b[39mdef\u001b[39;00m \u001b[39mgetsize\u001b[39m(filename):\n\u001b[1;32m     <a href='file:///usr/lib/python3.8/genericpath.py?line=48'>49</a>\u001b[0m     \u001b[39m\"\"\"Return the size of a file, reported by os.stat().\"\"\"\u001b[39;00m\n\u001b[0;32m---> <a href='file:///usr/lib/python3.8/genericpath.py?line=49'>50</a>\u001b[0m     \u001b[39mreturn\u001b[39;00m os\u001b[39m.\u001b[39;49mstat(filename)\u001b[39m.\u001b[39mst_size\n",
      "\u001b[0;31mFileNotFoundError\u001b[0m: [Errno 2] No such file or directory: 'out_bin'"
     ]
    }
   ],
   "source": [
    "i=0\n",
    "path = load.load_path_n(\"folder_cloud_test.npy\", 0)\n",
    "out_bin = \"Test_com/test{}.bin\".format(i)\n",
    "out_decom = \"Test_com/testdcom{}.png\".format(i)\n",
    "p_on_test = \"Test_com/test_p_frame{}.png\".format(i)\n",
    "i_on_test = \"Test_com/test_i_frame{}.png\".format(i)\n",
    "\n",
    "i_frame = path + 'im1' + '.png'\n",
    "p_frame = path + 'im2' + '.png'\n",
    "print(i_frame)\n",
    "\n",
    "OpenDVCW.write_png(p_on_test, OpenDVCW.read_png_crop(p_frame, 240, 240))\n",
    "OpenDVCW.write_png(i_on_test, OpenDVCW.read_png_crop(i_frame, 240, 240))\n",
    "\n",
    "OpenDVCW.compress(model, i_frame, p_frame, out_bin, 240, 240)\n",
    "\n",
    "\n",
    "\n",
    "OpenDVCW.decompress(model, i_frame, out_bin, out_decom, 240, 240)\n",
    "\n",
    "original = cv2.imread(p_on_test)\n",
    "compressed = cv2.imread(out_decom)\n",
    "bin_size = os.path.getsize(out_bin)\n",
    "value = PSNR(original, compressed)\n",
    "\n",
    "print(\"bin size: \", bin_size , \"psnr: \", value)"
   ]
  },
  {
   "cell_type": "code",
   "execution_count": null,
   "metadata": {},
   "outputs": [],
   "source": []
  }
 ],
 "metadata": {
  "interpreter": {
   "hash": "31f2aee4e71d21fbe5cf8b01ff0e069b9275f58929596ceb00d14d90e3e16cd6"
  },
  "kernelspec": {
   "display_name": "Python 3.8.10 64-bit",
   "language": "python",
   "name": "python3"
  },
  "language_info": {
   "codemirror_mode": {
    "name": "ipython",
    "version": 3
   },
   "file_extension": ".py",
   "mimetype": "text/x-python",
   "name": "python",
   "nbconvert_exporter": "python",
   "pygments_lexer": "ipython3",
   "version": "3.8.10"
  },
  "orig_nbformat": 4
 },
 "nbformat": 4,
 "nbformat_minor": 2
}
