{
 "cells": [
  {
   "cell_type": "code",
   "execution_count": 10,
   "metadata": {},
   "outputs": [
    {
     "name": "stdout",
     "output_type": "stream",
     "text": [
      "/workspaces/OpenDVCW\n"
     ]
    }
   ],
   "source": [
    "# %cd /home/ubu-admin/Developer/tensorflow-wavelets\n",
    "%cd /workspaces/OpenDVCW\n",
    "import os\n",
    "import load\n",
    "import OpenDVCW\n",
    "import tensorflow as tf\n",
    "from math import log10, sqrt\n",
    "import cv2\n",
    "import numpy as np"
   ]
  },
  {
   "cell_type": "code",
   "execution_count": 11,
   "metadata": {},
   "outputs": [],
   "source": [
    "def PSNR(original, compressed):\n",
    "    mse = np.mean((original - compressed) ** 2)\n",
    "    if(mse == 0):  # MSE is zero means no noise is present in the signal .\n",
    "                  # Therefore PSNR have no importance.\n",
    "        return 100\n",
    "    max_pixel = 255.0\n",
    "    psnr = 20 * log10(max_pixel / sqrt(mse))\n",
    "    return psnr"
   ]
  },
  {
   "cell_type": "code",
   "execution_count": 12,
   "metadata": {},
   "outputs": [],
   "source": [
    "def compare(original_path, compressed_path, binary_path):\n",
    "    original = cv2.imread(original_path)\n",
    "    compressed = cv2.imread(compressed_path)\n",
    "    bin_size = os.path.getsize(binary_path)\n",
    "    value = PSNR(original, compressed)\n",
    "    print(\"bin size: \", bin_size , \"psnr: \", value)"
   ]
  },
  {
   "cell_type": "code",
   "execution_count": 13,
   "metadata": {},
   "outputs": [
    {
     "name": "stdout",
     "output_type": "stream",
     "text": [
      "/mnt/WindowsDev/DataSets/Beauty_1920x1080_120fps_420_8bit_YUV_RAW/im1.png\n",
      "/mnt/WindowsDev/DataSets/Beauty_1920x1080_120fps_420_8bit_YUV_RAW/im2.png\n"
     ]
    }
   ],
   "source": [
    "BATCH_SIZE = 1\n",
    "Height = 240\n",
    "Width = 240\n",
    "lmbda = 256\n",
    "# path = load.load_path_n(\"folder_cloud_test.npy\", 0)\n",
    "path = \"/mnt/WindowsDev/DataSets/Beauty_1920x1080_120fps_420_8bit_YUV_RAW/\"\n",
    "p_frame_out_bin = \"Test_com/dvcw/p_frame_dvcw.bin\"\n",
    "out_decom = \"Test_com/dvcw/frame1.png\"\n",
    "i_on_test = \"Test_com/frame0.png\"\n",
    "p_on_test = \"Test_com/frame1.png\"\n",
    "\n",
    "i_frame = path + 'im1' + '.png'\n",
    "p_frame = path + 'im2' + '.png'\n",
    "print(i_frame)\n",
    "print(p_frame)\n",
    "OpenDVCW.write_png(p_on_test, OpenDVCW.read_png_crop(p_frame, 240, 240))\n",
    "OpenDVCW.write_png(i_on_test, OpenDVCW.read_png_crop(i_frame, 240, 240))"
   ]
  },
  {
   "cell_type": "code",
   "execution_count": 14,
   "metadata": {},
   "outputs": [],
   "source": [
    "def test(model, p_on_test, out_decom, p_frame_out_bin):\n",
    "    OpenDVCW.compress(model, i_frame, p_frame, p_frame_out_bin, 240, 240)\n",
    "    OpenDVCW.decompress(model, i_frame, p_frame_out_bin, out_decom, 240, 240)\n",
    "    original = cv2.imread(p_on_test)\n",
    "    compressed = cv2.imread(out_decom)\n",
    "    bin_size = os.path.getsize(p_frame_out_bin)\n",
    "    value = PSNR(original, compressed)\n",
    "    print(\"bin size: \", bin_size , \"psnr: \", value)"
   ]
  },
  {
   "cell_type": "code",
   "execution_count": 20,
   "metadata": {},
   "outputs": [
    {
     "name": "stdout",
     "output_type": "stream",
     "text": [
      "Loading model\n"
     ]
    }
   ],
   "source": [
    "\n",
    "print(\"Loading model\")\n",
    "model_2048 = tf.keras.models.load_model('model_save_checkpoints_wavelets_haar_Lmbd_2048_epcs_1500_I_QP_27_240x240_CosineDecay_20220502-201745')\n",
    "model_4096 = tf.keras.models.load_model('model_save_checkpoints_wavelets_haar_Lmbd_4096_epcs_1500_I_QP_27_240x240_CosineDecay_20220503-160827')\n",
    "model_8192 = tf.keras.models.load_model('model_save_checkpoints_wavelets_haar_Lmbd_8192_epcs_1500_I_QP_27_240x240_CosineDecay_20220504-144848')\n",
    "model_16384 = tf.keras.models.load_model('model_save_checkpoints_wavelets_haar_Lmbd_16384_epcs_1500_I_QP_27_240x240_CosineDecay_20220505-154218')\n",
    "\n",
    "\n",
    "# Show the model architecture\n",
    "# model.summary()\n",
    "# write inputs to disk\n",
    "\n",
    "\n"
   ]
  },
  {
   "cell_type": "code",
   "execution_count": 21,
   "metadata": {},
   "outputs": [
    {
     "name": "stdout",
     "output_type": "stream",
     "text": [
      "compress\n",
      "decompress\n",
      "bin size:  2276 psnr:  37.18333324326939\n",
      "compress\n",
      "decompress\n",
      "bin size:  1486 psnr:  38.3442414092443\n",
      "compress\n",
      "decompress\n",
      "bin size:  2895 psnr:  39.39475215954887\n",
      "compress\n",
      "decompress\n",
      "bin size:  7427 psnr:  39.1931025339404\n"
     ]
    }
   ],
   "source": [
    "test(model_2048, p_on_test, out_decom, p_frame_out_bin)\n",
    "test(model_4096, p_on_test, out_decom, p_frame_out_bin)\n",
    "test(model_8192, p_on_test, out_decom, p_frame_out_bin)\n",
    "test(model_16384, p_on_test, out_decom, p_frame_out_bin)"
   ]
  },
  {
   "cell_type": "code",
   "execution_count": 17,
   "metadata": {},
   "outputs": [],
   "source": [
    "# !rm -r /workspaces/OpenDVCW/Test_com\n",
    "# !mkdir /workspaces/OpenDVCW/Test_com\n",
    "# !mkdir /workspaces/OpenDVCW/Test_com/h264\n",
    "# !mkdir /workspaces/OpenDVCW/Test_com/h265\n",
    "# !mkdir /workspaces/OpenDVCW/Test_com/dvcw"
   ]
  },
  {
   "cell_type": "code",
   "execution_count": null,
   "metadata": {},
   "outputs": [],
   "source": [
    "\n"
   ]
  },
  {
   "cell_type": "code",
   "execution_count": 18,
   "metadata": {},
   "outputs": [
    {
     "name": "stdout",
     "output_type": "stream",
     "text": [
      "bin size:  2474 psnr:  37.254661164464146\n",
      "bin size:  3379 psnr:  37.47398441432867\n",
      "bin size:  4381 psnr:  37.744298474875755\n",
      "bin size:  7157 psnr:  38.25742859922432\n"
     ]
    }
   ],
   "source": [
    "# h264 test\n",
    "p_frame_h264_decoded = \"/workspaces/OpenDVCW/Test_com/h264/2.4k/decoded_h264_2.png\"\n",
    "h264_bin_path = \"/workspaces/OpenDVCW/Test_com/h264/2.4k/frame1.h264\"\n",
    "compare(p_on_test, p_frame_h264_decoded, h264_bin_path)\n",
    "\n",
    "# h264 test\n",
    "p_frame_h264_decoded = \"/workspaces/OpenDVCW/Test_com/h264/3.3k/decoded_h264_2.png\"\n",
    "h264_bin_path = \"/workspaces/OpenDVCW/Test_com/h264/3.3k/frame1.h264\"\n",
    "compare(p_on_test, p_frame_h264_decoded, h264_bin_path)\n",
    "\n",
    "# h264 test\n",
    "p_frame_h264_decoded = \"/workspaces/OpenDVCW/Test_com/h264/4.3k/decoded_h264_2.png\"\n",
    "h264_bin_path = \"/workspaces/OpenDVCW/Test_com/h264/4.3k/frame1.h264\"\n",
    "compare(p_on_test, p_frame_h264_decoded, h264_bin_path)\n",
    "\n",
    "# h264 test\n",
    "p_frame_h264_decoded = \"/workspaces/OpenDVCW/Test_com/h264/7.1k/decoded_h264_2.png\"\n",
    "h264_bin_path = \"/workspaces/OpenDVCW/Test_com/h264/7.1k/frame1.h264\"\n",
    "compare(p_on_test, p_frame_h264_decoded, h264_bin_path)\n"
   ]
  },
  {
   "cell_type": "markdown",
   "metadata": {},
   "source": []
  },
  {
   "cell_type": "code",
   "execution_count": 19,
   "metadata": {},
   "outputs": [
    {
     "name": "stdout",
     "output_type": "stream",
     "text": [
      "bin size:  2195 psnr:  37.958438318963836\n",
      "bin size:  3351 psnr:  38.23862877567929\n",
      "bin size:  4329 psnr:  38.47398597765003\n",
      "bin size:  7405 psnr:  38.80474786529784\n"
     ]
    }
   ],
   "source": [
    "# h265 test\n",
    "p_frame_h265_decoded = \"/workspaces/OpenDVCW/Test_com/h265/2.2k/decoded_h265_2.png\"\n",
    "h265_bin_path = \"/workspaces/OpenDVCW/Test_com/h265/2.2k/frame1.h265\"\n",
    "compare(p_on_test, p_frame_h265_decoded, h265_bin_path)\n",
    "\n",
    "# h265 test\n",
    "p_frame_h265_decoded = \"/workspaces/OpenDVCW/Test_com/h265/3.3k/decoded_h265_2.png\"\n",
    "h265_bin_path = \"/workspaces/OpenDVCW/Test_com/h265/3.3k/frame1.h265\"\n",
    "compare(p_on_test, p_frame_h265_decoded, h265_bin_path)\n",
    "\n",
    "# h265 test\n",
    "p_frame_h265_decoded = \"/workspaces/OpenDVCW/Test_com/h265/4.3k/decoded_h265_2.png\"\n",
    "h265_bin_path = \"/workspaces/OpenDVCW/Test_com/h265/4.3k/frame1.h265\"\n",
    "compare(p_on_test, p_frame_h265_decoded, h265_bin_path)\n",
    "\n",
    "# h265 test\n",
    "p_frame_h265_decoded = \"/workspaces/OpenDVCW/Test_com/h265/7.4k/decoded_h265_2.png\"\n",
    "h265_bin_path = \"/workspaces/OpenDVCW/Test_com/h265/7.4k/frame1.h265\"\n",
    "compare(p_on_test, p_frame_h265_decoded, h265_bin_path)"
   ]
  }
 ],
 "metadata": {
  "interpreter": {
   "hash": "31f2aee4e71d21fbe5cf8b01ff0e069b9275f58929596ceb00d14d90e3e16cd6"
  },
  "kernelspec": {
   "display_name": "Python 3.8.10 64-bit",
   "language": "python",
   "name": "python3"
  },
  "language_info": {
   "codemirror_mode": {
    "name": "ipython",
    "version": 3
   },
   "file_extension": ".py",
   "mimetype": "text/x-python",
   "name": "python",
   "nbconvert_exporter": "python",
   "pygments_lexer": "ipython3",
   "version": "3.8.10"
  },
  "orig_nbformat": 4
 },
 "nbformat": 4,
 "nbformat_minor": 2
}
