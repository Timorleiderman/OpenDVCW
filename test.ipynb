{
 "cells": [
  {
   "cell_type": "code",
   "execution_count": null,
   "metadata": {},
   "outputs": [],
   "source": [
    "import OpenDVCW\n",
    "import tensorflow as tf\n",
    "from tensorflow.keras.models import Model"
   ]
  },
  {
   "cell_type": "code",
   "execution_count": null,
   "metadata": {},
   "outputs": [],
   "source": [
    "model_dir = \"/mnt/WindowsDev/PreTainedModels/OpenDVCW/HAAR200k/model_save_checkpoints_wavelets_haar_Lmbd_256_nfilt_256_epcs_5_stps_200000_I_QP_42_240x240_CosineDecay_20221207-161406/\"\n",
    "model = tf.keras.models.load_model(model_dir)"
   ]
  },
  {
   "cell_type": "code",
   "execution_count": null,
   "metadata": {},
   "outputs": [],
   "source": [
    "\n",
    "i_frame = \"/mnt/WindowsDev/DataSets/Beauty_1920x1080_120fps_420_8bit_YUV_RAW/im0.png\"\n",
    "p_frame = \"/mnt/WindowsDev/DataSets/Beauty_1920x1080_120fps_420_8bit_YUV_RAW/im15.png\"\n",
    "comp_bin = \"/workspaces/OpenDVCW/Test_com/tmp/tmp.bin\"\n",
    "recon_frame = \"/workspaces/OpenDVCW/Test_com/tmp/recon.png\"\n",
    "motion_flow = \"/workspaces/OpenDVCW/Test_com/tmp/flow.png\"\n",
    "width = 240\n",
    "height = 240\n",
    "channels = 3\n",
    "\n",
    "Y0_com = OpenDVCW.read_png_crop(i_frame, width, height)\n",
    "Y1_raw = OpenDVCW.read_png_crop(p_frame, width, height) \n",
    "Y0_com = tf.expand_dims(Y0_com, 0)\n",
    "Y1_raw = tf.expand_dims(Y1_raw, 0)\n",
    "Y0_com = tf.cast(Y0_com / 255, dtype=tf.float32)\n",
    "Y1_raw = tf.cast(Y1_raw / 255, dtype=tf.float32)"
   ]
  },
  {
   "cell_type": "code",
   "execution_count": null,
   "metadata": {},
   "outputs": [],
   "source": [
    "# OpenDVCW.compress(model, i_frame, p_frame, comp_bin, width, height)\n",
    "# OpenDVCW.decompress(model, i_frame, comp_bin, recon_frame, width, height)\n",
    "flow_tensor = model.get_weights()"
   ]
  },
  {
   "cell_type": "code",
   "execution_count": null,
   "metadata": {},
   "outputs": [],
   "source": [
    "flow_tensor_c = flow_tensor[0, :240, :240, :] * 255\n",
    "flow_tensor_u8 = tf.saturate_cast(tf.round(flow_tensor_c), tf.uint8)\n",
    "OpenDVCW.write_png(motion_flow, flow_tensor_u8)"
   ]
  },
  {
   "cell_type": "code",
   "execution_count": null,
   "metadata": {},
   "outputs": [],
   "source": [
    "print(tf.reduce_max(flow_tensor_c))"
   ]
  },
  {
   "cell_type": "code",
   "execution_count": null,
   "metadata": {},
   "outputs": [],
   "source": [
    "flow_tensor"
   ]
  },
  {
   "cell_type": "code",
   "execution_count": null,
   "metadata": {},
   "outputs": [],
   "source": []
  }
 ],
 "metadata": {
  "interpreter": {
   "hash": "31f2aee4e71d21fbe5cf8b01ff0e069b9275f58929596ceb00d14d90e3e16cd6"
  },
  "kernelspec": {
   "display_name": "Python 3.8.10 64-bit",
   "language": "python",
   "name": "python3"
  },
  "language_info": {
   "codemirror_mode": {
    "name": "ipython",
    "version": 3
   },
   "file_extension": ".py",
   "mimetype": "text/x-python",
   "name": "python",
   "nbconvert_exporter": "python",
   "pygments_lexer": "ipython3",
   "version": "3.8.10"
  },
  "orig_nbformat": 4
 },
 "nbformat": 4,
 "nbformat_minor": 2
}
