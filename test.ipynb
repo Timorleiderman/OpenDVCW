{
 "cells": [
  {
   "cell_type": "code",
   "execution_count": 1,
   "metadata": {},
   "outputs": [
    {
     "name": "stdout",
     "output_type": "stream",
     "text": [
      "/workspaces/OpenDVCW\n"
     ]
    }
   ],
   "source": [
    "# %cd /home/ubu-admin/Developer/tensorflow-wavelets\n",
    "%cd /workspaces/OpenDVCW\n",
    "import os\n",
    "import load\n",
    "import OpenDVCW\n",
    "import tensorflow as tf\n",
    "from math import log10, sqrt\n",
    "import cv2\n",
    "import numpy as np\n",
    "from train import TrainOpenDVCW"
   ]
  },
  {
   "cell_type": "code",
   "execution_count": 2,
   "metadata": {},
   "outputs": [],
   "source": [
    "def PSNR(original, compressed):\n",
    "    mse = np.mean((original - compressed) ** 2)\n",
    "    if(mse == 0):  # MSE is zero means no noise is present in the signal .\n",
    "                  # Therefore PSNR have no importance.\n",
    "        return 100\n",
    "    max_pixel = 255.0\n",
    "    psnr = 20 * log10(max_pixel / sqrt(mse))\n",
    "    return psnr"
   ]
  },
  {
   "cell_type": "code",
   "execution_count": 3,
   "metadata": {},
   "outputs": [],
   "source": [
    "def compare(original_path, compressed_path, binary_path):\n",
    "    original = cv2.imread(original_path)\n",
    "    compressed = cv2.imread(compressed_path)\n",
    "    bin_size = os.path.getsize(binary_path)\n",
    "    value = PSNR(original, compressed)\n",
    "    print(\"bin size: \", bin_size , \"psnr: \", value, \"BPP: \", bin_size/(240*240*3))"
   ]
  },
  {
   "cell_type": "code",
   "execution_count": 4,
   "metadata": {},
   "outputs": [
    {
     "name": "stdout",
     "output_type": "stream",
     "text": [
      "/mnt/WindowsDev/DataSets/Beauty_1920x1080_120fps_420_8bit_YUV_RAW/im1.png\n",
      "/mnt/WindowsDev/DataSets/Beauty_1920x1080_120fps_420_8bit_YUV_RAW/im2.png\n"
     ]
    },
    {
     "name": "stderr",
     "output_type": "stream",
     "text": [
      "2022-05-28 14:40:50.090247: I tensorflow/stream_executor/cuda/cuda_gpu_executor.cc:936] successful NUMA node read from SysFS had negative value (-1), but there must be at least one NUMA node, so returning NUMA node zero\n",
      "2022-05-28 14:40:50.102935: I tensorflow/stream_executor/cuda/cuda_gpu_executor.cc:936] successful NUMA node read from SysFS had negative value (-1), but there must be at least one NUMA node, so returning NUMA node zero\n",
      "2022-05-28 14:40:50.103632: I tensorflow/stream_executor/cuda/cuda_gpu_executor.cc:936] successful NUMA node read from SysFS had negative value (-1), but there must be at least one NUMA node, so returning NUMA node zero\n",
      "2022-05-28 14:40:50.105965: I tensorflow/core/platform/cpu_feature_guard.cc:151] This TensorFlow binary is optimized with oneAPI Deep Neural Network Library (oneDNN) to use the following CPU instructions in performance-critical operations:  AVX2 FMA\n",
      "To enable them in other operations, rebuild TensorFlow with the appropriate compiler flags.\n",
      "2022-05-28 14:40:50.108060: I tensorflow/stream_executor/cuda/cuda_gpu_executor.cc:936] successful NUMA node read from SysFS had negative value (-1), but there must be at least one NUMA node, so returning NUMA node zero\n",
      "2022-05-28 14:40:50.108851: I tensorflow/stream_executor/cuda/cuda_gpu_executor.cc:936] successful NUMA node read from SysFS had negative value (-1), but there must be at least one NUMA node, so returning NUMA node zero\n",
      "2022-05-28 14:40:50.109555: I tensorflow/stream_executor/cuda/cuda_gpu_executor.cc:936] successful NUMA node read from SysFS had negative value (-1), but there must be at least one NUMA node, so returning NUMA node zero\n",
      "2022-05-28 14:40:50.799165: I tensorflow/stream_executor/cuda/cuda_gpu_executor.cc:936] successful NUMA node read from SysFS had negative value (-1), but there must be at least one NUMA node, so returning NUMA node zero\n",
      "2022-05-28 14:40:50.799909: I tensorflow/stream_executor/cuda/cuda_gpu_executor.cc:936] successful NUMA node read from SysFS had negative value (-1), but there must be at least one NUMA node, so returning NUMA node zero\n",
      "2022-05-28 14:40:50.800588: I tensorflow/stream_executor/cuda/cuda_gpu_executor.cc:936] successful NUMA node read from SysFS had negative value (-1), but there must be at least one NUMA node, so returning NUMA node zero\n",
      "2022-05-28 14:40:50.801262: I tensorflow/core/common_runtime/gpu/gpu_device.cc:1525] Created device /job:localhost/replica:0/task:0/device:GPU:0 with 10244 MB memory:  -> device: 0, name: NVIDIA GeForce RTX 3060, pci bus id: 0000:00:09.0, compute capability: 8.6\n"
     ]
    }
   ],
   "source": [
    "BATCH_SIZE = 1\n",
    "Height = 240\n",
    "Width = 240\n",
    "lmbda = 256\n",
    "# path = load.load_path_n(\"folder_cloud_test.npy\", 0)\n",
    "path = \"/mnt/WindowsDev/DataSets/Beauty_1920x1080_120fps_420_8bit_YUV_RAW/\"\n",
    "p_frame_out_bin = \"Test_com/dvcw/p_frame_dvcw.bin\"\n",
    "out_decom = \"Test_com/dvcw/frame1.png\"\n",
    "i_on_test = \"Test_com/frame0.png\"\n",
    "p_on_test = \"Test_com/frame1.png\"\n",
    "\n",
    "i_frame = path + 'im1' + '.png'\n",
    "p_frame = path + 'im2' + '.png'\n",
    "print(i_frame)\n",
    "print(p_frame)\n",
    "OpenDVCW.write_png(p_on_test, OpenDVCW.read_png_crop(p_frame, 240, 240))\n",
    "OpenDVCW.write_png(i_on_test, OpenDVCW.read_png_crop(i_frame, 240, 240))"
   ]
  },
  {
   "cell_type": "code",
   "execution_count": 5,
   "metadata": {},
   "outputs": [],
   "source": [
    "def test(model, p_on_test, out_decom, p_frame_out_bin):\n",
    "    OpenDVCW.compress(model, i_frame, p_frame, p_frame_out_bin, 240, 240)\n",
    "    OpenDVCW.decompress(model, i_frame, p_frame_out_bin, out_decom, 240, 240)\n",
    "    original = cv2.imread(p_on_test)\n",
    "    compressed = cv2.imread(out_decom)\n",
    "    bin_size = os.path.getsize(p_frame_out_bin)\n",
    "    value = PSNR(original, compressed)\n",
    "    print(\"bin size: \", bin_size , \"psnr: \", value, \"BPP: \", bin_size/(240*240*3))"
   ]
  },
  {
   "cell_type": "code",
   "execution_count": 6,
   "metadata": {},
   "outputs": [
    {
     "name": "stdout",
     "output_type": "stream",
     "text": [
      "Loading model\n"
     ]
    }
   ],
   "source": [
    "\n",
    "print(\"Loading model from saved model\")\n",
    "model_2048 = tf.keras.models.load_model('model_save_checkpoints_wavelets_haar_Lmbd_2048_epcs_1500_I_QP_27_240x240_CosineDecay_20220506-205303')\n",
    "model_4096 = tf.keras.models.load_model('model_save_checkpoints_wavelets_haar_Lmbd_4096_epcs_1500_I_QP_27_240x240_CosineDecay_20220503-160827')\n",
    "model_8192 = tf.keras.models.load_model('model_save_checkpoints_wavelets_haar_Lmbd_8192_epcs_1500_I_QP_27_240x240_CosineDecay_20220504-144848')\n",
    "model_16384 = tf.keras.models.load_model('model_save_checkpoints_wavelets_haar_Lmbd_16384_epcs_1500_I_QP_27_240x240_CosineDecay_20220505-154218')\n",
    "model_32768 = tf.keras.models.load_model('model_save_checkpoints_wavelets_haar_Lmbd_32768_epcs_1500_I_QP_27_240x240_CosineDecay_20220508-043447')\n",
    "\n",
    "\n",
    "# Show the model architecture\n",
    "# model.summary()\n",
    "# write inputs to disk\n",
    "\n",
    "\n"
   ]
  },
  {
   "cell_type": "code",
   "execution_count": 20,
   "metadata": {},
   "outputs": [
    {
     "name": "stdout",
     "output_type": "stream",
     "text": [
      "compress\n",
      "decompress\n",
      "bin size:  2025 psnr:  37.32593128544646 BPP:  0.01171875\n",
      "compress\n",
      "decompress\n",
      "bin size:  1486 psnr:  38.344064540817676 BPP:  0.008599537037037037\n",
      "compress\n",
      "decompress\n",
      "bin size:  2895 psnr:  39.393952007766295 BPP:  0.01675347222222222\n",
      "compress\n",
      "decompress\n",
      "bin size:  7428 psnr:  39.196075774892364 BPP:  0.042986111111111114\n",
      "compress\n",
      "decompress\n",
      "bin size:  8813 psnr:  41.01333649927184 BPP:  0.051001157407407405\n"
     ]
    }
   ],
   "source": [
    "test(model_2048, p_on_test, out_decom, p_frame_out_bin)\n",
    "test(model_4096, p_on_test, out_decom, p_frame_out_bin)\n",
    "test(model_8192, p_on_test, out_decom, p_frame_out_bin)\n",
    "test(model_16384, p_on_test, out_decom, p_frame_out_bin)\n",
    "test(model_32768, p_on_test, out_decom, p_frame_out_bin)\n"
   ]
  },
  {
   "cell_type": "code",
   "execution_count": 6,
   "metadata": {},
   "outputs": [
    {
     "name": "stdout",
     "output_type": "stream",
     "text": [
      "Loading model from saved checkpoints\n"
     ]
    },
    {
     "name": "stderr",
     "output_type": "stream",
     "text": [
      "WARNING:absl:Computing quantization offsets using offset heuristic within a tf.function. Ideally, the offset heuristic should only be used to determine offsets once after training. Depending on the prior, estimating the offset might be computationally expensive.\n",
      "WARNING:absl:Computing quantization offsets using offset heuristic within a tf.function. Ideally, the offset heuristic should only be used to determine offsets once after training. Depending on the prior, estimating the offset might be computationally expensive.\n"
     ]
    },
    {
     "name": "stdout",
     "output_type": "stream",
     "text": [
      "* [Model compiled]...\n",
      "Loading weights\n"
     ]
    },
    {
     "name": "stderr",
     "output_type": "stream",
     "text": [
      "2022-05-28 14:41:04.216116: W tensorflow/python/util/util.cc:368] Sets are not currently considered sequences, but this may change in the future, so consider avoiding using them.\n",
      "2022-05-28 14:41:33.683475: I tensorflow/stream_executor/cuda/cuda_dnn.cc:368] Loaded cuDNN version 8100\n"
     ]
    },
    {
     "name": "stdout",
     "output_type": "stream",
     "text": [
      "50/50 [==============================] - ETA: 0s - loss: 0.6846 - bpp: 0.3629 - mse: 1.5710e-04\n",
      "Epoch 1: loss improved from inf to 0.68461, saving model to checkpoints_wavelets_haar_Lmbd_2048_epcs_1_I_QP_27_240x240_CosineDecay_20220528-144055/\n",
      "50/50 [==============================] - 41s 151ms/step - loss: 0.6846 - bpp: 0.3629 - mse: 1.5710e-04\n",
      "compress\n",
      "in the compress\n",
      "decompress\n",
      "in decompress\n",
      "bin size:  960 psnr:  37.764514655057496 bpp:  0.005555555555555556\n"
     ]
    }
   ],
   "source": [
    "print(\"Loading model from saved checkpoints\")\n",
    "BATCH_SIZE = 1\n",
    "EPOCHS = 1\n",
    "STEPS_PER_EPOCH = 50\n",
    "Height = 240\n",
    "Width = 240\n",
    "Channel = 3\n",
    "NUM_FILTERS = 128\n",
    "lmbda = 2**11 # 2048\n",
    "lr_init = 1e-4\n",
    "lr_alpha = 1e-8\n",
    "early_stop = 800\n",
    "I_QP=27\n",
    "wavelet_name = \"haar\"\n",
    "np_folder = \"folder_cloud_test.npy\"\n",
    "\n",
    "checkponts_prev_path = \"/workspaces/OpenDVCW/checkpoints_wavelets_haar_Lmbd_2048_epcs_1500_I_QP_27_240x240_CosineDecay_20220506-205303/\"\n",
    "model_2048_cp = TrainOpenDVCW(BATCH_SIZE, EPOCHS, STEPS_PER_EPOCH,\n",
    "                              Height, Width, Channel, NUM_FILTERS,\n",
    "                              lmbda, lr_init, lr_alpha, early_stop, I_QP,\n",
    "                              wavelet_name, checkponts_prev_path, np_folder)\n",
    "model_2048_cp.compile()\n",
    "model_2048_cp.fit()\n",
    "model_2048_cp.test(i_frame, p_frame, p_frame_out_bin, out_decom)\n",
    "# model_2048_cp.check_psnr(i_frame, p_frame, p_frame_out_bin)\n",
    "\n",
    "# model_2048 = tf.keras.models.load_model('model_save_checkpoints_wavelets_haar_Lmbd_2048_epcs_1500_I_QP_27_240x240_CosineDecay_20220506-205303')\n",
    "# model_4096 = tf.keras.models.load_model('model_save_checkpoints_wavelets_haar_Lmbd_4096_epcs_1500_I_QP_27_240x240_CosineDecay_20220503-160827')\n",
    "# model_8192 = tf.keras.models.load_model('model_save_checkpoints_wavelets_haar_Lmbd_8192_epcs_1500_I_QP_27_240x240_CosineDecay_20220504-144848')\n",
    "# model_16384 = tf.keras.models.load_model('model_save_checkpoints_wavelets_haar_Lmbd_16384_epcs_1500_I_QP_27_240x240_CosineDecay_20220505-154218')\n",
    "# model_32768 = tf.keras.models.load_model('model_save_checkpoints_wavelets_haar_Lmbd_32768_epcs_1500_I_QP_27_240x240_CosineDecay_20220508-043447')\n"
   ]
  },
  {
   "cell_type": "code",
   "execution_count": null,
   "metadata": {},
   "outputs": [],
   "source": [
    "\n"
   ]
  },
  {
   "cell_type": "code",
   "execution_count": 16,
   "metadata": {},
   "outputs": [
    {
     "name": "stdout",
     "output_type": "stream",
     "text": [
      "bin size:  1452 psnr:  36.84876363907728 BPP:  0.008402777777777778\n",
      "bin size:  2474 psnr:  37.254661164464146 BPP:  0.01431712962962963\n",
      "bin size:  3379 psnr:  37.47398441432867 BPP:  0.019554398148148147\n",
      "bin size:  4381 psnr:  37.744298474875755 BPP:  0.02535300925925926\n",
      "bin size:  7157 psnr:  38.25742859922432 BPP:  0.04141782407407407\n",
      "bin size:  8748 psnr:  38.450992768465305 BPP:  0.050625\n"
     ]
    }
   ],
   "source": [
    "# h264 test\n",
    "p_frame_h264_decoded = \"/workspaces/OpenDVCW/Test_com/h264/1.4k/decoded_h264_2.png\"\n",
    "h264_bin_path = \"/workspaces/OpenDVCW/Test_com/h264/1.4k/frame1.h264\"\n",
    "compare(p_on_test, p_frame_h264_decoded, h264_bin_path)\n",
    "\n",
    "# h264 test\n",
    "p_frame_h264_decoded = \"/workspaces/OpenDVCW/Test_com/h264/2.4k/decoded_h264_2.png\"\n",
    "h264_bin_path = \"/workspaces/OpenDVCW/Test_com/h264/2.4k/frame1.h264\"\n",
    "compare(p_on_test, p_frame_h264_decoded, h264_bin_path)\n",
    "\n",
    "# h264 test\n",
    "p_frame_h264_decoded = \"/workspaces/OpenDVCW/Test_com/h264/3.3k/decoded_h264_2.png\"\n",
    "h264_bin_path = \"/workspaces/OpenDVCW/Test_com/h264/3.3k/frame1.h264\"\n",
    "compare(p_on_test, p_frame_h264_decoded, h264_bin_path)\n",
    "\n",
    "# h264 test\n",
    "p_frame_h264_decoded = \"/workspaces/OpenDVCW/Test_com/h264/4.3k/decoded_h264_2.png\"\n",
    "h264_bin_path = \"/workspaces/OpenDVCW/Test_com/h264/4.3k/frame1.h264\"\n",
    "compare(p_on_test, p_frame_h264_decoded, h264_bin_path)\n",
    "\n",
    "# h264 test\n",
    "p_frame_h264_decoded = \"/workspaces/OpenDVCW/Test_com/h264/7.1k/decoded_h264_2.png\"\n",
    "h264_bin_path = \"/workspaces/OpenDVCW/Test_com/h264/7.1k/frame1.h264\"\n",
    "compare(p_on_test, p_frame_h264_decoded, h264_bin_path)\n",
    "\n",
    "# h264 test\n",
    "p_frame_h264_decoded = \"/workspaces/OpenDVCW/Test_com/h264/8.7k/decoded_h264_2.png\"\n",
    "h264_bin_path = \"/workspaces/OpenDVCW/Test_com/h264/8.7k/frame1.h264\"\n",
    "compare(p_on_test, p_frame_h264_decoded, h264_bin_path)\n"
   ]
  },
  {
   "cell_type": "markdown",
   "metadata": {},
   "source": []
  },
  {
   "cell_type": "code",
   "execution_count": 18,
   "metadata": {},
   "outputs": [
    {
     "name": "stdout",
     "output_type": "stream",
     "text": [
      "bin size:  1451 psnr:  37.635756498430204 BPP:  0.008396990740740741\n",
      "bin size:  2195 psnr:  37.958438318963836 BPP:  0.012702546296296297\n",
      "bin size:  3351 psnr:  38.23862877567929 BPP:  0.01939236111111111\n",
      "bin size:  4329 psnr:  38.47398597765003 BPP:  0.025052083333333332\n",
      "bin size:  7405 psnr:  38.80474786529784 BPP:  0.04285300925925926\n",
      "bin size:  8713 psnr:  38.88156179902449 BPP:  0.050422453703703705\n"
     ]
    }
   ],
   "source": [
    "# h265 test\n",
    "p_frame_h265_decoded = \"/workspaces/OpenDVCW/Test_com/h265/1.4k/decoded_h265_2.png\"\n",
    "h265_bin_path = \"/workspaces/OpenDVCW/Test_com/h265/1.4k/frame1.h265\"\n",
    "compare(p_on_test, p_frame_h265_decoded, h265_bin_path)\n",
    "\n",
    "# h265 test\n",
    "p_frame_h265_decoded = \"/workspaces/OpenDVCW/Test_com/h265/2.2k/decoded_h265_2.png\"\n",
    "h265_bin_path = \"/workspaces/OpenDVCW/Test_com/h265/2.2k/frame1.h265\"\n",
    "compare(p_on_test, p_frame_h265_decoded, h265_bin_path)\n",
    "\n",
    "# h265 test\n",
    "p_frame_h265_decoded = \"/workspaces/OpenDVCW/Test_com/h265/3.3k/decoded_h265_2.png\"\n",
    "h265_bin_path = \"/workspaces/OpenDVCW/Test_com/h265/3.3k/frame1.h265\"\n",
    "compare(p_on_test, p_frame_h265_decoded, h265_bin_path)\n",
    "\n",
    "# h265 test\n",
    "p_frame_h265_decoded = \"/workspaces/OpenDVCW/Test_com/h265/4.3k/decoded_h265_2.png\"\n",
    "h265_bin_path = \"/workspaces/OpenDVCW/Test_com/h265/4.3k/frame1.h265\"\n",
    "compare(p_on_test, p_frame_h265_decoded, h265_bin_path)\n",
    "\n",
    "# h265 test\n",
    "p_frame_h265_decoded = \"/workspaces/OpenDVCW/Test_com/h265/7.4k/decoded_h265_2.png\"\n",
    "h265_bin_path = \"/workspaces/OpenDVCW/Test_com/h265/7.4k/frame1.h265\"\n",
    "compare(p_on_test, p_frame_h265_decoded, h265_bin_path)\n",
    "\n",
    "# h265 test\n",
    "p_frame_h265_decoded = \"/workspaces/OpenDVCW/Test_com/h265/8.7k/decoded_h265_2.png\"\n",
    "h265_bin_path = \"/workspaces/OpenDVCW/Test_com/h265/8.7k/frame1.h265\"\n",
    "compare(p_on_test, p_frame_h265_decoded, h265_bin_path)"
   ]
  },
  {
   "cell_type": "code",
   "execution_count": null,
   "metadata": {},
   "outputs": [],
   "source": []
  }
 ],
 "metadata": {
  "interpreter": {
   "hash": "31f2aee4e71d21fbe5cf8b01ff0e069b9275f58929596ceb00d14d90e3e16cd6"
  },
  "kernelspec": {
   "display_name": "Python 3.8.10 64-bit",
   "language": "python",
   "name": "python3"
  },
  "language_info": {
   "codemirror_mode": {
    "name": "ipython",
    "version": 3
   },
   "file_extension": ".py",
   "mimetype": "text/x-python",
   "name": "python",
   "nbconvert_exporter": "python",
   "pygments_lexer": "ipython3",
   "version": "3.8.10"
  },
  "orig_nbformat": 4
 },
 "nbformat": 4,
 "nbformat_minor": 2
}
