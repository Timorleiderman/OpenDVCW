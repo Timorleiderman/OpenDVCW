{
 "cells": [
  {
   "cell_type": "code",
   "execution_count": 3,
   "metadata": {},
   "outputs": [
    {
     "name": "stdout",
     "output_type": "stream",
     "text": [
      "/workspaces/OpenDVCW\n"
     ]
    }
   ],
   "source": [
    "# %cd /home/ubu-admin/Developer/tensorflow-wavelets\n",
    "%cd /workspaces/OpenDVCW\n",
    "import os\n",
    "import load\n",
    "import OpenDVCW\n",
    "import tensorflow as tf\n",
    "from math import log10, sqrt\n",
    "import cv2\n",
    "import numpy as np"
   ]
  },
  {
   "cell_type": "code",
   "execution_count": 4,
   "metadata": {},
   "outputs": [],
   "source": [
    "def PSNR(original, compressed):\n",
    "    mse = np.mean((original - compressed) ** 2)\n",
    "    if(mse == 0):  # MSE is zero means no noise is present in the signal .\n",
    "                  # Therefore PSNR have no importance.\n",
    "        return 100\n",
    "    max_pixel = 255.0\n",
    "    psnr = 20 * log10(max_pixel / sqrt(mse))\n",
    "    return psnr"
   ]
  },
  {
   "cell_type": "code",
   "execution_count": 5,
   "metadata": {},
   "outputs": [],
   "source": [
    "def compare(original_path, compressed_path, binary_path):\n",
    "    original = cv2.imread(original_path)\n",
    "    compressed = cv2.imread(compressed_path)\n",
    "    bin_size = os.path.getsize(binary_path)\n",
    "    value = PSNR(original, compressed)\n",
    "    print(\"bin size: \", bin_size , \"psnr: \", value)"
   ]
  },
  {
   "cell_type": "code",
   "execution_count": 16,
   "metadata": {},
   "outputs": [
    {
     "name": "stdout",
     "output_type": "stream",
     "text": [
      "Loading model\n",
      "Model: \"open_dvc\"\n",
      "_________________________________________________________________\n",
      " Layer (type)                Output Shape              Param #   \n",
      "=================================================================\n",
      " mv_analysis (Sequential)    (None, None, None, 128)   659456    \n",
      "                                                                 \n",
      " mv_synthesis (Sequential)   (None, None, None, 2)     642824    \n",
      "                                                                 \n",
      " res_analysis (Sequential)   (None, None, None, 128)   1552640   \n",
      "                                                                 \n",
      " res_synthesis (Sequential)  (None, None, None, 3)     1536015   \n",
      "                                                                 \n",
      " wavelets_optical_flow (Wave  multiple                 240050    \n",
      " letsOpticalFlow)                                                \n",
      "                                                                 \n",
      " motion_compensation (Motion  multiple                 486467    \n",
      " Compensation)                                                   \n",
      "                                                                 \n",
      "=================================================================\n",
      "Total params: 5,117,456\n",
      "Trainable params: 5,117,452\n",
      "Non-trainable params: 4\n",
      "_________________________________________________________________\n"
     ]
    }
   ],
   "source": [
    "BATCH_SIZE = 1\n",
    "Height = 240\n",
    "Width = 240\n",
    "lmbda = 256\n",
    "print(\"Loading model\")\n",
    "model = tf.keras.models.load_model('model_save_wavelets_L_4096_1_240x240')\n",
    "# Show the model architecture\n",
    "model.summary()"
   ]
  },
  {
   "cell_type": "code",
   "execution_count": 8,
   "metadata": {},
   "outputs": [],
   "source": [
    "!rm -r /workspaces/OpenDVCW/Test_com\n",
    "!mkdir /workspaces/OpenDVCW/Test_com\n",
    "!mkdir /workspaces/OpenDVCW/Test_com/h264\n",
    "!mkdir /workspaces/OpenDVCW/Test_com/h265\n",
    "!mkdir /workspaces/OpenDVCW/Test_com/dvcw"
   ]
  },
  {
   "cell_type": "code",
   "execution_count": 17,
   "metadata": {},
   "outputs": [
    {
     "name": "stdout",
     "output_type": "stream",
     "text": [
      "/mnt/WindowsDev/DataSets/vimeo_septuplet/sequences/00049/0289/im1.png\n",
      "/mnt/WindowsDev/DataSets/vimeo_septuplet/sequences/00049/0289/im2.png\n",
      "compress\n",
      "decompress\n",
      "bin size:  11115 psnr:  37.1306740694544\n"
     ]
    }
   ],
   "source": [
    "\n",
    "path = load.load_path_n(\"folder_cloud_test.npy\", 0)\n",
    "p_frame_out_bin = \"Test_com/dvcw/p_frame_dvcw.bin\"\n",
    "out_decom = \"Test_com/dvcw/frame1.png\"\n",
    "i_on_test = \"Test_com/frame0.png\"\n",
    "p_on_test = \"Test_com/frame1.png\"\n",
    "\n",
    "i_frame = path + 'im1' + '.png'\n",
    "p_frame = path + 'im2' + '.png'\n",
    "print(i_frame)\n",
    "print(p_frame)\n",
    "\n",
    "# write inputs to disk\n",
    "OpenDVCW.write_png(p_on_test, OpenDVCW.read_png_crop(p_frame, 240, 240))\n",
    "OpenDVCW.write_png(i_on_test, OpenDVCW.read_png_crop(i_frame, 240, 240))\n",
    "\n",
    "\n",
    "OpenDVCW.compress(model, i_frame, p_frame, p_frame_out_bin, 240, 240)\n",
    "OpenDVCW.decompress(model, i_frame, p_frame_out_bin, out_decom, 240, 240)\n",
    "\n",
    "\n",
    "original = cv2.imread(p_on_test)\n",
    "compressed = cv2.imread(out_decom)\n",
    "bin_size = os.path.getsize(p_frame_out_bin)\n",
    "value = PSNR(original, compressed)\n",
    "print(\"bin size: \", bin_size , \"psnr: \", value)"
   ]
  },
  {
   "cell_type": "code",
   "execution_count": 10,
   "metadata": {},
   "outputs": [],
   "source": [
    "# !rm -r /workspaces/OpenDVCW/Test_com/h265/*\n",
    "# !ffmpeg -i /workspaces/OpenDVCW/Test_com/frame%d.png -c:v libx265 -b:v 1k /workspaces/OpenDVCW/Test_com/h265/out.h265\n",
    "# !ffmpeg -i /workspaces/OpenDVCW/Test_com/h265/out.h265 /workspaces/OpenDVCW/Test_com/h265/h265_decom%d.png\n"
   ]
  },
  {
   "cell_type": "code",
   "execution_count": 11,
   "metadata": {},
   "outputs": [],
   "source": [
    "# !rm -r /workspaces/OpenDVCW/Test_com/h264/*\n",
    "# !ffmpeg -i /workspaces/OpenDVCW/Test_com/frame%d.png -c:v libx264 -b:v 200k /workspaces/OpenDVCW/Test_com/h264/out.h264\n",
    "# !ffmpeg -i /workspaces/OpenDVCW/Test_com/h264/out.h264 /workspaces/OpenDVCW/Test_com/h264/h264_decom%d.png"
   ]
  },
  {
   "cell_type": "code",
   "execution_count": 12,
   "metadata": {},
   "outputs": [],
   "source": [
    "# !ffprobe -bsfs /workspaces/OpenDVCW/Test_com/h264/out.h264"
   ]
  },
  {
   "cell_type": "code",
   "execution_count": 14,
   "metadata": {},
   "outputs": [
    {
     "name": "stdout",
     "output_type": "stream",
     "text": [
      "bin size:  798 psnr:  39.944791655527666\n"
     ]
    }
   ],
   "source": [
    "# h264 test\n",
    "p_frame_h264_decoded = \"/workspaces/OpenDVCW/Test_com/h264/decoded_h264_2.png\"\n",
    "h264_bin_path = \"/workspaces/OpenDVCW/Test_com/h264/frame1.h264\"\n",
    "compare(p_on_test, p_frame_h264_decoded, h264_bin_path)"
   ]
  },
  {
   "cell_type": "code",
   "execution_count": 15,
   "metadata": {},
   "outputs": [
    {
     "name": "stdout",
     "output_type": "stream",
     "text": [
      "bin size:  785 psnr:  39.70775637987411\n"
     ]
    }
   ],
   "source": [
    "# h265 test\n",
    "p_frame_h265_decoded = \"/workspaces/OpenDVCW/Test_com/h265/decoded_h265_2.png\"\n",
    "h265_bin_path = \"/workspaces/OpenDVCW/Test_com/h265/frame1.h265\"\n",
    "compare(p_on_test, p_frame_h265_decoded, h265_bin_path)"
   ]
  },
  {
   "cell_type": "code",
   "execution_count": null,
   "metadata": {},
   "outputs": [],
   "source": []
  }
 ],
 "metadata": {
  "interpreter": {
   "hash": "31f2aee4e71d21fbe5cf8b01ff0e069b9275f58929596ceb00d14d90e3e16cd6"
  },
  "kernelspec": {
   "display_name": "Python 3.8.10 64-bit",
   "language": "python",
   "name": "python3"
  },
  "language_info": {
   "codemirror_mode": {
    "name": "ipython",
    "version": 3
   },
   "file_extension": ".py",
   "mimetype": "text/x-python",
   "name": "python",
   "nbconvert_exporter": "python",
   "pygments_lexer": "ipython3",
   "version": "3.8.10"
  },
  "orig_nbformat": 4
 },
 "nbformat": 4,
 "nbformat_minor": 2
}
