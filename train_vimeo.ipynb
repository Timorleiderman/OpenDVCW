{
 "cells": [
  {
   "cell_type": "code",
   "execution_count": null,
   "metadata": {},
   "outputs": [],
   "source": [
    "%pwd \n",
    "%cd /workspaces/tensorflow-wavelets"
   ]
  },
  {
   "cell_type": "code",
   "execution_count": null,
   "metadata": {},
   "outputs": [],
   "source": [
    "import OpenDVC\n",
    "import numpy as np\n",
    "import load\n",
    "import tensorflow as tf\n",
    "import matplotlib.pyplot as plt"
   ]
  },
  {
   "cell_type": "code",
   "execution_count": null,
   "metadata": {},
   "outputs": [],
   "source": [
    "batch_size = 1\n",
    "EPOCHS = 20\n",
    "Height = 240\n",
    "Width = 240\n",
    "Channel = 3\n",
    "lmbda = 256\n",
    "lr_init = 1e-4\n",
    "samples = 100\n",
    "I_QP=27\n",
    "early_stop_patience = 3\n",
    "\n",
    "checkponts_last_path = \"checkpoints_testME4_no_norm3/\"\n",
    "checkponts_new_path = \"checkpoints_testME4_no_norm4/\"\n",
    "\n",
    "args = OpenDVC.Arguments()\n",
    "\n",
    "\n",
    "model = OpenDVC.OpenDVC(width=Width, height=Height, batch_size=batch_size, num_filters=128, lmbda=lmbda)\n",
    "# model.summary()\n",
    "model.compile(\n",
    "    optimizer=tf.keras.optimizers.Adam(learning_rate=lr_init),\n",
    ")\n",
    "print(\"* [Model compiled]...\")\n",
    "\n",
    "\n"
   ]
  },
  {
   "cell_type": "code",
   "execution_count": null,
   "metadata": {},
   "outputs": [],
   "source": [
    "\n",
    "print(\"* [Loading dataset]...\")\n",
    "data = load.load_data_vimeo90k(\"/mnt/WindowsDev/Developer/tensorflow-wavelets/folder_cloud.npy\",\n",
    "                                samples, Height, Width, Channel, I_QP)\n",
    "\n",
    "dataset = tf.data.Dataset.from_tensor_slices(data)\n",
    "\n",
    "\n",
    "\n"
   ]
  },
  {
   "cell_type": "code",
   "execution_count": null,
   "metadata": {},
   "outputs": [],
   "source": [
    "print(\"Loading weights\")\n",
    "\n",
    "model.load_weights(checkponts_last_path)\n",
    "print(\"Going to fit\")\n",
    "\n",
    "hist = model.fit(\n",
    "        dataset,\n",
    "        epochs=EPOCHS, \n",
    "        verbose=1, \n",
    "        callbacks=\n",
    "            [\n",
    "            OpenDVC.MemoryCallback(),\n",
    "            tf.keras.callbacks.ModelCheckpoint(filepath=checkponts_new_path, save_weights_only=True, save_freq='epoch',monitor=\"loss\",mode='min',  save_best_only=True, verbose=1), \n",
    "            tf.keras.callbacks.TerminateOnNaN(),\n",
    "            tf.keras.callbacks.TensorBoard(log_dir=args.backup_restore, histogram_freq=0, update_freq=\"epoch\"),            \n",
    "            ],\n",
    "\n",
    "        )  "
   ]
  },
  {
   "cell_type": "code",
   "execution_count": null,
   "metadata": {},
   "outputs": [],
   "source": []
  }
 ],
 "metadata": {
  "interpreter": {
   "hash": "31f2aee4e71d21fbe5cf8b01ff0e069b9275f58929596ceb00d14d90e3e16cd6"
  },
  "kernelspec": {
   "display_name": "Python 3.8.10 64-bit",
   "language": "python",
   "name": "python3"
  },
  "language_info": {
   "codemirror_mode": {
    "name": "ipython",
    "version": 3
   },
   "file_extension": ".py",
   "mimetype": "text/x-python",
   "name": "python",
   "nbconvert_exporter": "python",
   "pygments_lexer": "ipython3",
   "version": "3.8.10"
  },
  "orig_nbformat": 4
 },
 "nbformat": 4,
 "nbformat_minor": 2
}
