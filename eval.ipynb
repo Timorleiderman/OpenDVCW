{
 "cells": [
  {
   "cell_type": "code",
   "execution_count": 1,
   "metadata": {},
   "outputs": [],
   "source": [
    "import evaluator"
   ]
  },
  {
   "cell_type": "code",
   "execution_count": 2,
   "metadata": {},
   "outputs": [],
   "source": [
    "model_list = [\n",
    "    \"/workspaces/OpenDVCW/model_save_checkpoints_wavelets_haar_Lmbd_256_nfilt_256_epcs_15_stps_10000_I_QP_42_240x240_CosineDecay_20220705-061459/\",\n",
    "    \"/workspaces/OpenDVCW/model_save_checkpoints_wavelets_haar_Lmbd_1024_nfilt_256_epcs_15_stps_10000_I_QP_37_240x240_CosineDecay_20220704-225023/\",\n",
    "    \"/workspaces/OpenDVCW/model_save_checkpoints_wavelets_haar_Lmbd_4096_nfilt_256_epcs_15_stps_10000_I_QP_32_240x240_CosineDecay_20220704-152812/\",\n",
    "    \"/workspaces/OpenDVCW/model_save_checkpoints_wavelets_haar_Lmbd_16384_nfilt_256_epcs_15_stps_10000_I_QP_27_240x240_CosineDecay_20220704-044114/\",\n",
    "    \"/workspaces/OpenDVCW/model_save_checkpoints_wavelets_haar_Lmbd_65536_nfilt_256_epcs_15_stps_10000_I_QP_22_240x240_CosineDecay_20220703-214625/\"\n",
    "]"
   ]
  },
  {
   "cell_type": "code",
   "execution_count": 3,
   "metadata": {},
   "outputs": [],
   "source": [
    "eval = evaluator.Evaluator(bs=1, height=240, width=\n",
    "240, channels=3, input_seq_path=\"/mnt/WindowsDev/DataSets/Beauty_1920x1080_120fps_420_8bit_YUV_RAW/\",\n",
    "workdir=\"/workspaces/OpenDVCW/Test_com/eval\", model_list=model_list, num_of_p_frames=7,\n",
    "      prefix=\"im\", suffix=\".png\", bin_suffix=\".bin\", decom_prefix=\"decom\")"
   ]
  },
  {
   "cell_type": "code",
   "execution_count": 4,
   "metadata": {},
   "outputs": [
    {
     "name": "stdout",
     "output_type": "stream",
     "text": [
      "Evaluation Started ...\n",
      "working on model /workspaces/OpenDVCW/model_save_checkpoints_wavelets_haar_Lmbd_256_nfilt_256_epcs_15_stps_10000_I_QP_42_240x240_CosineDecay_20220705-061459/\n"
     ]
    },
    {
     "name": "stderr",
     "output_type": "stream",
     "text": [
      "2022-07-16 14:15:08.271538: I tensorflow/stream_executor/cuda/cuda_gpu_executor.cc:975] successful NUMA node read from SysFS had negative value (-1), but there must be at least one NUMA node, so returning NUMA node zero\n",
      "2022-07-16 14:15:08.308156: I tensorflow/stream_executor/cuda/cuda_gpu_executor.cc:975] successful NUMA node read from SysFS had negative value (-1), but there must be at least one NUMA node, so returning NUMA node zero\n",
      "2022-07-16 14:15:08.310947: I tensorflow/stream_executor/cuda/cuda_gpu_executor.cc:975] successful NUMA node read from SysFS had negative value (-1), but there must be at least one NUMA node, so returning NUMA node zero\n",
      "2022-07-16 14:15:08.317605: I tensorflow/core/platform/cpu_feature_guard.cc:193] This TensorFlow binary is optimized with oneAPI Deep Neural Network Library (oneDNN) to use the following CPU instructions in performance-critical operations:  AVX2 FMA\n",
      "To enable them in other operations, rebuild TensorFlow with the appropriate compiler flags.\n",
      "2022-07-16 14:15:08.323209: I tensorflow/stream_executor/cuda/cuda_gpu_executor.cc:975] successful NUMA node read from SysFS had negative value (-1), but there must be at least one NUMA node, so returning NUMA node zero\n",
      "2022-07-16 14:15:08.324703: I tensorflow/stream_executor/cuda/cuda_gpu_executor.cc:975] successful NUMA node read from SysFS had negative value (-1), but there must be at least one NUMA node, so returning NUMA node zero\n",
      "2022-07-16 14:15:08.325998: I tensorflow/stream_executor/cuda/cuda_gpu_executor.cc:975] successful NUMA node read from SysFS had negative value (-1), but there must be at least one NUMA node, so returning NUMA node zero\n",
      "2022-07-16 14:15:10.118362: I tensorflow/stream_executor/cuda/cuda_gpu_executor.cc:975] successful NUMA node read from SysFS had negative value (-1), but there must be at least one NUMA node, so returning NUMA node zero\n",
      "2022-07-16 14:15:10.119744: I tensorflow/stream_executor/cuda/cuda_gpu_executor.cc:975] successful NUMA node read from SysFS had negative value (-1), but there must be at least one NUMA node, so returning NUMA node zero\n",
      "2022-07-16 14:15:10.120898: I tensorflow/stream_executor/cuda/cuda_gpu_executor.cc:975] successful NUMA node read from SysFS had negative value (-1), but there must be at least one NUMA node, so returning NUMA node zero\n",
      "2022-07-16 14:15:10.121979: I tensorflow/core/common_runtime/gpu/gpu_device.cc:1532] Created device /job:localhost/replica:0/task:0/device:GPU:0 with 22304 MB memory:  -> device: 0, name: NVIDIA GeForce RTX 3090, pci bus id: 0000:00:09.0, compute capability: 8.6\n",
      "2022-07-16 14:15:50.292163: I tensorflow/stream_executor/cuda/cuda_dnn.cc:384] Loaded cuDNN version 8100\n"
     ]
    },
    {
     "name": "stdout",
     "output_type": "stream",
     "text": [
      "working on model /workspaces/OpenDVCW/model_save_checkpoints_wavelets_haar_Lmbd_1024_nfilt_256_epcs_15_stps_10000_I_QP_37_240x240_CosineDecay_20220704-225023/\n",
      "working on model /workspaces/OpenDVCW/model_save_checkpoints_wavelets_haar_Lmbd_4096_nfilt_256_epcs_15_stps_10000_I_QP_32_240x240_CosineDecay_20220704-152812/\n",
      "working on model /workspaces/OpenDVCW/model_save_checkpoints_wavelets_haar_Lmbd_16384_nfilt_256_epcs_15_stps_10000_I_QP_27_240x240_CosineDecay_20220704-044114/\n",
      "working on model /workspaces/OpenDVCW/model_save_checkpoints_wavelets_haar_Lmbd_65536_nfilt_256_epcs_15_stps_10000_I_QP_22_240x240_CosineDecay_20220703-214625/\n"
     ]
    }
   ],
   "source": [
    "eval.eval()"
   ]
  },
  {
   "cell_type": "code",
   "execution_count": 5,
   "metadata": {},
   "outputs": [
    {
     "data": {
      "text/plain": [
       "{<keras.saving.saved_model.load.OpenDVCW at 0x7f69032cde20>: [{'bin_size': 656,\n",
       "   'psnr': 34.53372756268363,\n",
       "   'BPP': 0.0037962962962962963},\n",
       "  {'bin_size': 678, 'psnr': 34.5773750068056, 'BPP': 0.003923611111111111},\n",
       "  {'bin_size': 695, 'psnr': 34.46930328706611, 'BPP': 0.004021990740740741},\n",
       "  {'bin_size': 698, 'psnr': 34.41255432186669, 'BPP': 0.004039351851851852},\n",
       "  {'bin_size': 717, 'psnr': 34.43657475867359, 'BPP': 0.004149305555555555},\n",
       "  {'bin_size': 717, 'psnr': 34.439549479299615, 'BPP': 0.004149305555555555},\n",
       "  {'bin_size': 743, 'psnr': 34.46644323982192, 'BPP': 0.004299768518518519}],\n",
       " <keras.saving.saved_model.load.OpenDVCW at 0x7f685c449ca0>: [{'bin_size': 1579,\n",
       "   'psnr': 35.86185227190701,\n",
       "   'BPP': 0.009137731481481481},\n",
       "  {'bin_size': 1595, 'psnr': 35.77459867593404, 'BPP': 0.009230324074074075},\n",
       "  {'bin_size': 1651, 'psnr': 35.709822894358396, 'BPP': 0.009554398148148149},\n",
       "  {'bin_size': 1700, 'psnr': 35.73927937034374, 'BPP': 0.009837962962962963},\n",
       "  {'bin_size': 1746, 'psnr': 35.76501845088958, 'BPP': 0.010104166666666666},\n",
       "  {'bin_size': 1777, 'psnr': 35.83155996427103, 'BPP': 0.010283564814814815},\n",
       "  {'bin_size': 1763, 'psnr': 35.75621279583349, 'BPP': 0.010202546296296296}],\n",
       " <keras.saving.saved_model.load.OpenDVCW at 0x7f61716a8fa0>: [{'bin_size': 4024,\n",
       "   'psnr': 37.772593298637496,\n",
       "   'BPP': 0.023287037037037037},\n",
       "  {'bin_size': 4125, 'psnr': 37.5956064983763, 'BPP': 0.023871527777777776},\n",
       "  {'bin_size': 4202, 'psnr': 37.52301229035069, 'BPP': 0.02431712962962963},\n",
       "  {'bin_size': 4290, 'psnr': 37.47885696282217, 'BPP': 0.024826388888888887},\n",
       "  {'bin_size': 4271, 'psnr': 37.4775010066577, 'BPP': 0.024716435185185185},\n",
       "  {'bin_size': 4304, 'psnr': 37.615109460897756, 'BPP': 0.024907407407407406},\n",
       "  {'bin_size': 4269, 'psnr': 37.63025684390827, 'BPP': 0.02470486111111111}],\n",
       " <keras.saving.saved_model.load.OpenDVCW at 0x7f6170370280>: [{'bin_size': 9533,\n",
       "   'psnr': 39.58410661155938,\n",
       "   'BPP': 0.05516782407407408},\n",
       "  {'bin_size': 9724, 'psnr': 39.368605150056965, 'BPP': 0.05627314814814815},\n",
       "  {'bin_size': 9838, 'psnr': 39.22903622477121, 'BPP': 0.05693287037037037},\n",
       "  {'bin_size': 9942, 'psnr': 39.2277321464499, 'BPP': 0.05753472222222222},\n",
       "  {'bin_size': 9865, 'psnr': 39.2677147843319, 'BPP': 0.05708912037037037},\n",
       "  {'bin_size': 9900, 'psnr': 39.33316337410432, 'BPP': 0.057291666666666664},\n",
       "  {'bin_size': 9849, 'psnr': 39.42137891318939, 'BPP': 0.05699652777777778}],\n",
       " <keras.saving.saved_model.load.OpenDVCW at 0x7f6115936b20>: [{'bin_size': 18092,\n",
       "   'psnr': 40.648263653181054,\n",
       "   'BPP': 0.10469907407407407},\n",
       "  {'bin_size': 18300, 'psnr': 40.302806360633134, 'BPP': 0.10590277777777778},\n",
       "  {'bin_size': 18507, 'psnr': 40.15406556505354, 'BPP': 0.10710069444444445},\n",
       "  {'bin_size': 18595, 'psnr': 40.11347627385636, 'BPP': 0.1076099537037037},\n",
       "  {'bin_size': 18687, 'psnr': 40.19497310506598, 'BPP': 0.10814236111111111},\n",
       "  {'bin_size': 18774, 'psnr': 40.3319214344271, 'BPP': 0.10864583333333333},\n",
       "  {'bin_size': 18776, 'psnr': 40.471605509778485, 'BPP': 0.10865740740740741}]}"
      ]
     },
     "execution_count": 5,
     "metadata": {},
     "output_type": "execute_result"
    }
   ],
   "source": [
    "eval.res"
   ]
  },
  {
   "cell_type": "code",
   "execution_count": null,
   "metadata": {},
   "outputs": [],
   "source": []
  },
  {
   "cell_type": "code",
   "execution_count": null,
   "metadata": {},
   "outputs": [],
   "source": []
  }
 ],
 "metadata": {
  "interpreter": {
   "hash": "31f2aee4e71d21fbe5cf8b01ff0e069b9275f58929596ceb00d14d90e3e16cd6"
  },
  "kernelspec": {
   "display_name": "Python 3.8.10 64-bit",
   "language": "python",
   "name": "python3"
  },
  "language_info": {
   "codemirror_mode": {
    "name": "ipython",
    "version": 3
   },
   "file_extension": ".py",
   "mimetype": "text/x-python",
   "name": "python",
   "nbconvert_exporter": "python",
   "pygments_lexer": "ipython3",
   "version": "3.8.10"
  },
  "orig_nbformat": 4
 },
 "nbformat": 4,
 "nbformat_minor": 2
}
