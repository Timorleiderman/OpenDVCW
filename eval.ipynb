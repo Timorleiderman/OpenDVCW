{
 "cells": [
  {
   "cell_type": "code",
   "execution_count": 1,
   "metadata": {},
   "outputs": [],
   "source": [
    "import evaluator"
   ]
  },
  {
   "cell_type": "code",
   "execution_count": 2,
   "metadata": {},
   "outputs": [],
   "source": [
    "model_list = [\n",
    "    \"/workspaces/OpenDVCW/model_save_checkpoints_wavelets_haar_Lmbd_256_nfilt_256_epcs_15_stps_10000_I_QP_42_240x240_CosineDecay_20220705-061459/\",\n",
    "    \"/workspaces/OpenDVCW/model_save_checkpoints_wavelets_haar_Lmbd_1024_nfilt_256_epcs_15_stps_10000_I_QP_37_240x240_CosineDecay_20220704-225023/\",\n",
    "    \"/workspaces/OpenDVCW/model_save_checkpoints_wavelets_haar_Lmbd_4096_nfilt_256_epcs_15_stps_10000_I_QP_32_240x240_CosineDecay_20220704-152812/\",\n",
    "    \"/workspaces/OpenDVCW/model_save_checkpoints_wavelets_haar_Lmbd_16384_nfilt_256_epcs_15_stps_10000_I_QP_27_240x240_CosineDecay_20220704-044114/\",\n",
    "    \"/workspaces/OpenDVCW/model_save_checkpoints_wavelets_haar_Lmbd_65536_nfilt_256_epcs_15_stps_10000_I_QP_22_240x240_CosineDecay_20220703-214625/\"\n",
    "]"
   ]
  },
  {
   "cell_type": "code",
   "execution_count": 3,
   "metadata": {},
   "outputs": [],
   "source": [
    "eval = evaluator.Evaluator(bs=1, height=240, width=240,\n",
    " channels=3, input_seq_path=r\"/mnt/WindowsDev/DataSets/Beauty_1920x1080_120fps_420_8bit_YUV_RAW/\",\n",
    " workdir=\"/workspaces/OpenDVCW/Test_com/eval\", model_list=model_list, num_of_p_frames=7,\n",
    " prefix=\"im\", suffix=\".png\", bin_suffix=\".bin\", decom_prefix=\"decom\",\n",
    " tave_path=\"/workspaces/OpenDVCW/cpp_encoder/build/tave\",\n",
    " h264_workdir=\"/workspaces/OpenDVCW/Test_com/h264/test\",\n",
    " h265_workdir=\"/workspaces/OpenDVCW/Test_com/h265/test\")\n"
   ]
  },
  {
   "cell_type": "code",
   "execution_count": 4,
   "metadata": {},
   "outputs": [],
   "source": [
    "# eval.eval()"
   ]
  },
  {
   "cell_type": "code",
   "execution_count": 5,
   "metadata": {},
   "outputs": [
    {
     "data": {
      "text/plain": [
       "{}"
      ]
     },
     "execution_count": 5,
     "metadata": {},
     "output_type": "execute_result"
    }
   ],
   "source": [
    "eval.res"
   ]
  },
  {
   "cell_type": "code",
   "execution_count": 6,
   "metadata": {},
   "outputs": [],
   "source": [
    "# !/workspaces/OpenDVCW/cpp_encoder/build/tave libx265 1255555 \"/mnt/WindowsDev/DataSets/Beauty_1920x1080_120fps_420_8bit_YUV_RAW/\" \"im\" \".png\" \"/workspaces/OpenDVCW/Test_com/h264/test/\" 3"
   ]
  },
  {
   "cell_type": "code",
   "execution_count": 10,
   "metadata": {},
   "outputs": [
    {
     "name": "stdout",
     "output_type": "stream",
     "text": [
      "Command:  ['/workspaces/OpenDVCW/cpp_encoder/build/tave', 'libx264', '50000', '/mnt/WindowsDev/DataSets/Beauty_1920x1080_120fps_420_8bit_YUV_RAW/', 'im', '.png', '/workspaces/OpenDVCW/Test_com/h264/test', '7']\n",
      "number of frames: 7\n",
      "Opening ... /workspaces/OpenDVCW/Test_com/h264/test/output_joined.h264\n",
      "Reading ... /mnt/WindowsDev/DataSets/Beauty_1920x1080_120fps_420_8bit_YUV_RAW/im1.png\n",
      "Send frame 0\n",
      "Send frame 0\n",
      "Reading ... /mnt/WindowsDev/DataSets/Beauty_1920x1080_120fps_420_8bit_YUV_RAW/im2.png\n",
      "Send frame 1\n",
      "Send frame 1\n",
      "Reading ... /mnt/WindowsDev/DataSets/Beauty_1920x1080_120fps_420_8bit_YUV_RAW/im3.png\n",
      "Send frame 2\n",
      "Send frame 2\n",
      "Reading ... /mnt/WindowsDev/DataSets/Beauty_1920x1080_120fps_420_8bit_YUV_RAW/im4.png\n",
      "Send frame 3\n",
      "Send frame 3\n",
      "Reading ... /mnt/WindowsDev/DataSets/Beauty_1920x1080_120fps_420_8bit_YUV_RAW/im5.png\n",
      "Send frame 4\n",
      "Send frame 4\n",
      "Reading ... /mnt/WindowsDev/DataSets/Beauty_1920x1080_120fps_420_8bit_YUV_RAW/im6.png\n",
      "Send frame 5\n",
      "Send frame 5\n",
      "Reading ... /mnt/WindowsDev/DataSets/Beauty_1920x1080_120fps_420_8bit_YUV_RAW/im7.png\n",
      "Send frame 6\n",
      "Send frame 6\n",
      "Write packet 0 Size: 1173\n",
      "Writing to /workspaces/OpenDVCW/Test_com/h264/test/0.h264\n",
      "Write packet 4 Size: 23\n",
      "Writing to /workspaces/OpenDVCW/Test_com/h264/test/1.h264\n",
      "Write packet 2 Size: 13\n",
      "Writing to /workspaces/OpenDVCW/Test_com/h264/test/2.h264\n",
      "Write packet 1 Size: 13\n",
      "Writing to /workspaces/OpenDVCW/Test_com/h264/test/3.h264\n",
      "Write packet 3 Size: 18\n",
      "Writing to /workspaces/OpenDVCW/Test_com/h264/test/4.h264\n",
      "Write packet 6 Size: 30\n",
      "Writing to /workspaces/OpenDVCW/Test_com/h264/test/5.h264\n",
      "Write packet 5 Size: 13\n",
      "Writing to /workspaces/OpenDVCW/Test_com/h264/test/6.h264\n",
      "Write packet   0  1135\n",
      "Write packet   4    76\n",
      "Write packet   2    32\n",
      "Write packet   1    19\n",
      "Write packet   3    15\n",
      "Write packet   6    75\n",
      "Write packet   5    30\n"
     ]
    },
    {
     "name": "stderr",
     "output_type": "stream",
     "text": [
      "[libx264 @ 0x55684223d880] using cpu capabilities: MMX2 SSE2Fast SSSE3 SSE4.2 AVX FMA3 BMI2 AVX2\n",
      "[libx264 @ 0x55684223d880] profile High 4:4:4 Predictive, level 1.3, 4:4:4 8-bit\n",
      "[libx264 @ 0x55684223efc0] using cpu capabilities: MMX2 SSE2Fast SSSE3 SSE4.2 AVX FMA3 BMI2 AVX2\n",
      "[libx264 @ 0x55684223efc0] profile High 4:4:4 Predictive, level 1.3, 4:4:4 8-bit\n",
      "[libx264 @ 0x55684223d880] frame I:1     Avg QP:46.48  size:  1173\n",
      "[libx264 @ 0x55684223d880] frame P:2     Avg QP:49.68  size:    26\n",
      "[libx264 @ 0x55684223d880] frame B:4     Avg QP:46.24  size:    14\n",
      "[libx264 @ 0x55684223d880] consecutive B-frames: 14.3% 28.6%  0.0% 57.1%\n",
      "[libx264 @ 0x55684223d880] mb I  I16..4: 97.8%  0.0%  2.2%\n",
      "[libx264 @ 0x55684223d880] mb P  I16..4:  0.9%  0.0%  0.0%  P16..4:  0.7%  0.2%  0.0%  0.0%  0.0%    skip:98.2%\n",
      "[libx264 @ 0x55684223d880] mb B  I16..4:  0.1%  0.0%  0.0%  B16..8:  0.0%  0.0%  0.0%  direct: 0.0%  skip:99.9%\n",
      "[libx264 @ 0x55684223d880] final ratefactor: 42.90\n",
      "[libx264 @ 0x55684223d880] coded y,u,v intra: 1.2% 0.2% 0.3% inter: 0.0% 0.0% 0.0%\n",
      "[libx264 @ 0x55684223d880] i16 v,h,dc,p: 68%  9% 13% 10%\n",
      "[libx264 @ 0x55684223d880] i4 v,h,dc,ddl,ddr,vr,hd,vl,hu: 16%  0% 59% 19%  0%  1%  0%  5%  0%\n",
      "[libx264 @ 0x55684223d880] Weighted P-Frames: Y:0.0% UV:0.0%\n",
      "[libx264 @ 0x55684223d880] kb/s:43.99\n",
      "[libx264 @ 0x55684223efc0] frame I:1     Avg QP:46.31  size:  1135\n",
      "[libx264 @ 0x55684223efc0] frame P:2     Avg QP:50.61  size:    76\n",
      "[libx264 @ 0x55684223efc0] frame B:4     Avg QP:45.00  size:    24\n",
      "[libx264 @ 0x55684223efc0] consecutive B-frames: 14.3% 28.6%  0.0% 57.1%\n",
      "[libx264 @ 0x55684223efc0] mb I  I16..4: 96.9%  0.0%  3.1%\n",
      "[libx264 @ 0x55684223efc0] mb P  I16..4:  0.9%  0.0%  0.0%  P16..4: 14.9%  2.2%  0.0%  0.0%  0.0%    skip:82.0%\n",
      "[libx264 @ 0x55684223efc0] mb B  I16..4:  0.0%  0.0%  0.0%  B16..8:  5.6%  0.0%  0.0%  direct: 0.0%  skip:94.4%  L0:18.0% L1:82.0% BI: 0.0%\n",
      "[libx264 @ 0x55684223efc0] final ratefactor: 43.46\n",
      "[libx264 @ 0x55684223efc0] coded y,u,v intra: 2.0% 0.5% 0.9% inter: 0.0% 0.1% 0.0%\n",
      "[libx264 @ 0x55684223efc0] i16 v,h,dc,p: 68%  9% 15%  9%\n",
      "[libx264 @ 0x55684223efc0] i4 v,h,dc,ddl,ddr,vr,hd,vl,hu: 23%  1% 66%  6%  0%  1%  1%  2%  0%\n",
      "[libx264 @ 0x55684223efc0] Weighted P-Frames: Y:0.0% UV:0.0%\n",
      "[libx264 @ 0x55684223efc0] ref P L0: 90.9%  1.3%  5.2%  2.6%\n",
      "[libx264 @ 0x55684223efc0] kb/s:47.38\n",
      "ffmpeg version 4.2.7-0ubuntu0.1 Copyright (c) 2000-2022 the FFmpeg developers\n",
      "  built with gcc 9 (Ubuntu 9.4.0-1ubuntu1~20.04.1)\n",
      "  configuration: --prefix=/usr --extra-version=0ubuntu0.1 --toolchain=hardened --libdir=/usr/lib/x86_64-linux-gnu --incdir=/usr/include/x86_64-linux-gnu --arch=amd64 --enable-gpl --disable-stripping --enable-avresample --disable-filter=resample --enable-avisynth --enable-gnutls --enable-ladspa --enable-libaom --enable-libass --enable-libbluray --enable-libbs2b --enable-libcaca --enable-libcdio --enable-libcodec2 --enable-libflite --enable-libfontconfig --enable-libfreetype --enable-libfribidi --enable-libgme --enable-libgsm --enable-libjack --enable-libmp3lame --enable-libmysofa --enable-libopenjpeg --enable-libopenmpt --enable-libopus --enable-libpulse --enable-librsvg --enable-librubberband --enable-libshine --enable-libsnappy --enable-libsoxr --enable-libspeex --enable-libssh --enable-libtheora --enable-libtwolame --enable-libvidstab --enable-libvorbis --enable-libvpx --enable-libwavpack --enable-libwebp --enable-libx265 --enable-libxml2 --enable-libxvid --enable-libzmq --enable-libzvbi --enable-lv2 --enable-omx --enable-openal --enable-opencl --enable-opengl --enable-sdl2 --enable-libdc1394 --enable-libdrm --enable-libiec61883 --enable-nvenc --enable-chromaprint --enable-frei0r --enable-libx264 --enable-shared\n",
      "  libavutil      56. 31.100 / 56. 31.100\n",
      "  libavcodec     58. 54.100 / 58. 54.100\n",
      "  libavformat    58. 29.100 / 58. 29.100\n",
      "  libavdevice    58.  8.100 / 58.  8.100\n",
      "  libavfilter     7. 57.100 /  7. 57.100\n",
      "  libavresample   4.  0.  0 /  4.  0.  0\n",
      "  libswscale      5.  5.100 /  5.  5.100\n",
      "  libswresample   3.  5.100 /  3.  5.100\n",
      "  libpostproc    55.  5.100 / 55.  5.100\n",
      "Input #0, h264, from '/workspaces/OpenDVCW/Test_com/h264/test/output_joined.h264':\n",
      "  Duration: N/A, bitrate: N/A\n",
      "    Stream #0:0: Video: h264 (High 4:4:4 Predictive), yuv444p(progressive), 240x240, 25.83 fps, 30 tbr, 1200k tbn, 60 tbc\n",
      "Stream mapping:\n",
      "  Stream #0:0 -> #0:0 (h264 (native) -> png (native))\n",
      "Press [q] to stop, [?] for help\n",
      "Output #0, image2, to '/workspaces/OpenDVCW/Test_com/h264/test/decoded_%04d.png':\n",
      "  Metadata:\n",
      "    encoder         : Lavf58.29.100\n",
      "    Stream #0:0: Video: png, rgb24, 240x240, q=2-31, 200 kb/s, 30 fps, 30 tbn, 30 tbc\n",
      "    Metadata:\n",
      "      encoder         : Lavc58.54.100 png\n",
      "frame=    8 fps=0.0 q=-0.0 Lsize=N/A time=00:00:00.26 bitrate=N/A dup=1 drop=0 speed=3.44x    \n",
      "video:340kB audio:0kB subtitle:0kB other streams:0kB global headers:0kB muxing overhead: unknown\n"
     ]
    }
   ],
   "source": [
    "eval.h264_test(50000)"
   ]
  },
  {
   "cell_type": "code",
   "execution_count": null,
   "metadata": {},
   "outputs": [],
   "source": []
  }
 ],
 "metadata": {
  "interpreter": {
   "hash": "31f2aee4e71d21fbe5cf8b01ff0e069b9275f58929596ceb00d14d90e3e16cd6"
  },
  "kernelspec": {
   "display_name": "Python 3.8.10 64-bit",
   "language": "python",
   "name": "python3"
  },
  "language_info": {
   "codemirror_mode": {
    "name": "ipython",
    "version": 3
   },
   "file_extension": ".py",
   "mimetype": "text/x-python",
   "name": "python",
   "nbconvert_exporter": "python",
   "pygments_lexer": "ipython3",
   "version": "3.8.10"
  },
  "orig_nbformat": 4
 },
 "nbformat": 4,
 "nbformat_minor": 2
}
