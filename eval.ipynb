{
 "cells": [
  {
   "cell_type": "code",
   "execution_count": 1,
   "metadata": {},
   "outputs": [
    {
     "name": "stderr",
     "output_type": "stream",
     "text": [
      "2023-11-10 20:52:34.654042: I tensorflow/core/platform/cpu_feature_guard.cc:182] This TensorFlow binary is optimized to use available CPU instructions in performance-critical operations.\n",
      "To enable the following instructions: AVX2 FMA, in other operations, rebuild TensorFlow with the appropriate compiler flags.\n",
      "2023-11-10 20:52:35.569033: W tensorflow/compiler/tf2tensorrt/utils/py_utils.cc:38] TF-TRT Warning: Could not find TensorRT\n",
      "/usr/local/lib/python3.8/dist-packages/tensorflow_addons/utils/tfa_eol_msg.py:23: UserWarning: \n",
      "\n",
      "TensorFlow Addons (TFA) has ended development and introduction of new features.\n",
      "TFA has entered a minimal maintenance and release mode until a planned end of life in May 2024.\n",
      "Please modify downstream libraries to take dependencies from other repositories in our TensorFlow community (e.g. Keras, Keras-CV, and Keras-NLP). \n",
      "\n",
      "For more information see: https://github.com/tensorflow/addons/issues/2807 \n",
      "\n",
      "  warnings.warn(\n"
     ]
    }
   ],
   "source": [
    "import evaluator"
   ]
  },
  {
   "cell_type": "code",
   "execution_count": 2,
   "metadata": {},
   "outputs": [],
   "source": [
    "model_list_haar = [\n",
    "    \"/workspaces/OpenDVCW/model_save_checkpoints_wavelets_haar_Lmbd_256_nfilt_256_epcs_15_stps_10000_I_QP_42_240x240_CosineDecay_20220705-061459/\",\n",
    "    \"/workspaces/OpenDVCW/model_save_checkpoints_wavelets_haar_Lmbd_1024_nfilt_256_epcs_15_stps_10000_I_QP_37_240x240_CosineDecay_20220704-225023/\",\n",
    "    \"/workspaces/OpenDVCW/model_save_checkpoints_wavelets_haar_Lmbd_4096_nfilt_256_epcs_15_stps_10000_I_QP_32_240x240_CosineDecay_20220704-152812/\",\n",
    "    \"/workspaces/OpenDVCW/model_save_checkpoints_wavelets_haar_Lmbd_16384_nfilt_256_epcs_15_stps_10000_I_QP_27_240x240_CosineDecay_20220704-044114/\",\n",
    "    \"/workspaces/OpenDVCW/model_save_checkpoints_wavelets_haar_Lmbd_65536_nfilt_256_epcs_15_stps_10000_I_QP_22_240x240_CosineDecay_20220703-214625/\"\n",
    "]\n",
    "\n",
    "model_list_db2 = [\n",
    "    \"/workspaces/OpenDVCW/model_save_checkpoints_wavelets_db2_Lmbd_256_nfilt_256_epcs_15_stps_60000_I_QP_42_240x240_CosineDecay_20220729-022643/\",\n",
    "    \"/workspaces/OpenDVCW/model_save_checkpoints_wavelets_db2_Lmbd_1024_nfilt_256_epcs_15_stps_60000_I_QP_37_240x240_CosineDecay_20220727-000239/\",\n",
    "    \"/workspaces/OpenDVCW/model_save_checkpoints_wavelets_db2_Lmbd_4096_nfilt_256_epcs_15_stps_60000_I_QP_32_240x240_CosineDecay_20220725-042633/\",\n",
    "    \"/workspaces/OpenDVCW/model_save_checkpoints_wavelets_db2_Lmbd_16384_nfilt_256_epcs_15_stps_60000_I_QP_27_240x240_CosineDecay_20220721-093040/\",\n",
    "    \"/workspaces/OpenDVCW/model_save_checkpoints_wavelets_db2_Lmbd_65536_nfilt_256_epcs_15_stps_60000_I_QP_22_240x240_CosineDecay_20220719-155911/\"\n",
    "]\n",
    "\n",
    "\n",
    "\n",
    "\n",
    "    \n",
    "h264_bit_rate = [1e6, 8e6, 14e6, 22e6, 30e6]\n",
    "h265_bit_rate = [1e6, 8e6, 14e6, 22e6, 30e6]\n",
    "h266_bit_rate = [1e6, 8e6, 14e6, 22e6, 30e6]\n",
    "num_of_p_frames = 7\n",
    "\n",
    "data_set_path =\"/mnt/WindowsDev/Timor/Study/DataSets/\"\n",
    "root_dir = \"/home/ubu-admin/Developer/OpenDVCW/\"\n",
    "root_dir = \"/workspaces/OpenDVCW\"\n",
    "workdir = root_dir + \"/workdir/eval\"\n",
    "tave_path = root_dir + \"/cpp_encoder/build/tave\"\n",
    "h264_workdir = root_dir +\"/workdir/h264/test\"\n",
    "h265_workdir = root_dir +\"/workdir/h265/test\"\n",
    "h266_workdir = root_dir + \"/workdir/h266/test\"\n",
    "\n",
    "\n",
    "input_seq_paths = [\n",
    "    # \"/mnt/WindowsDev/DataSets/Beauty_1920x1080_120fps_420_8bit_YUV_RAW/\",\n",
    "    # \"/mnt/WindowsDev/DataSets/Bosphorus_1920x1080_120fps_420_8bit_YUV_raw/\",\n",
    "    # \"/mnt/WindowsDev/DataSets/ShakeNDry_1920x1080_120fps_420_8bit_YUV_RAW/\",\n",
    "    data_set_path + \"HoneyBee_1920x1080_120fps_420_8bit_YUV_RAW/\"]\n"
   ]
  },
  {
   "cell_type": "code",
   "execution_count": 3,
   "metadata": {},
   "outputs": [
    {
     "name": "stdout",
     "output_type": "stream",
     "text": [
      "****************************************************************************************************************\n",
      "Command:  /workspaces/OpenDVCW/cpp_encoder/build/tave libvvenc 1000000.0 /mnt/WindowsDev/Timor/Study/DataSets/HoneyBee_1920x1080_120fps_420_8bit_YUV_RAW/ im .png /workspaces/OpenDVCW/workdir/h266/test 7\n",
      "number of frames: 7\n",
      "Opening ... /workspaces/OpenDVCW/workdir/h266/test/output_joined.h266\n",
      "Reading ... /mnt/WindowsDev/Timor/Study/DataSets/HoneyBee_1920x1080_120fps_420_8bit_YUV_RAW/im1.png\n",
      "Send frame 0\n",
      "Send frame 0\n",
      "Reading ... /mnt/WindowsDev/Timor/Study/DataSets/HoneyBee_1920x1080_120fps_420_8bit_YUV_RAW/im2.png\n",
      "Send frame 1\n",
      "Send frame 1\n",
      "Reading ... /mnt/WindowsDev/Timor/Study/DataSets/HoneyBee_1920x1080_120fps_420_8bit_YUV_RAW/im3.png\n",
      "Send frame 2\n",
      "Send frame 2\n",
      "Reading ... /mnt/WindowsDev/Timor/Study/DataSets/HoneyBee_1920x1080_120fps_420_8bit_YUV_RAW/im4.png\n",
      "Send frame 3\n",
      "Send frame 3\n",
      "Reading ... /mnt/WindowsDev/Timor/Study/DataSets/HoneyBee_1920x1080_120fps_420_8bit_YUV_RAW/im5.png\n",
      "Send frame 4\n",
      "Send frame 4\n",
      "Reading ... /mnt/WindowsDev/Timor/Study/DataSets/HoneyBee_1920x1080_120fps_420_8bit_YUV_RAW/im6.png\n",
      "Send frame 5\n",
      "Send frame 5\n",
      "Reading ... /mnt/WindowsDev/Timor/Study/DataSets/HoneyBee_1920x1080_120fps_420_8bit_YUV_RAW/im7.png\n"
     ]
    },
    {
     "name": "stderr",
     "output_type": "stream",
     "text": [
      "[libvvenc @ 0x556210a595c0] vvenc version: 1.9.1\n",
      "[libvvenc @ 0x556210a595c0] vvenc [info]: Internal format                        : 240x240  30 Hz  SDR\n",
      "vvenc [info]: Threads                                : 1  (parallel frames: 1)\n",
      "vvenc [info]: Rate control                           : VBR  1 Mbps  single-pass\n",
      "vvenc [info]: Perceptual optimization                : Enabled\n",
      "vvenc [info]: Intra period (keyframe)                : 32\n",
      "vvenc [info]: Decoding refresh type                  : CRA\n",
      "\n",
      "[libvvenc @ 0x556210a59a80] vvenc version: 1.9.1\n",
      "[libvvenc @ 0x556210a59a80] vvenc [info]: Internal format                        : 240x240  30 Hz  SDR\n",
      "vvenc [info]: Threads                                : 1  (parallel frames: 1)\n",
      "vvenc [info]: Rate control                           : VBR  1 Mbps  single-pass\n",
      "vvenc [info]: Perceptual optimization                : Enabled\n",
      "vvenc [info]: Intra period (keyframe)                : 32\n",
      "vvenc [info]: Decoding refresh type                  : CRA\n",
      "\n"
     ]
    },
    {
     "name": "stdout",
     "output_type": "stream",
     "text": [
      "Send frame 6\n",
      "Send frame 6\n",
      "Write packet 3 Size: 28248\n",
      "Writing to /workspaces/OpenDVCW/workdir/h266/test/0.h266\n",
      "Write packet 1 Size: 295\n",
      "Writing to /workspaces/OpenDVCW/workdir/h266/test/1.h266\n",
      "Write packet 0 Size: 218\n",
      "Writing to /workspaces/OpenDVCW/workdir/h266/test/2.h266\n",
      "Write packet 2 Size: 101\n",
      "Writing to /workspaces/OpenDVCW/workdir/h266/test/3.h266\n",
      "Write packet 5 Size: 541\n",
      "Writing to /workspaces/OpenDVCW/workdir/h266/test/4.h266\n",
      "Write packet 4 Size: 99\n",
      "Writing to /workspaces/OpenDVCW/workdir/h266/test/5.h266\n",
      "Write packet 6 Size: 286\n",
      "Writing to /workspaces/OpenDVCW/workdir/h266/test/6.h266\n",
      "Write packet   3 27936\n",
      "Write packet   1  1153\n",
      "Write packet   0   254\n",
      "Write packet   2   111\n",
      "Write packet   5   230\n",
      "Write packet   4    84\n",
      "Write packet   6   191\n",
      "$$$$$$$$$$$$$$$$$$$$$$$$$$$$$$$$$$$$$$$$$$$$$$$$$$$$$$$$$$$$$$$$$$$$$$$$$$$$$$$$$$$$$$$$$$$$$$$$$$$$$$$$$$$$$$$$$\n",
      "Command:  /usr/local/bin/ffmpeg -i /workspaces/OpenDVCW/workdir/h266/test/output_joined.h266 /workspaces/OpenDVCW/workdir/h266/test/decoded_%04d.png\n"
     ]
    },
    {
     "name": "stderr",
     "output_type": "stream",
     "text": [
      "ffmpeg version N-112549-g2532e832d2 Copyright (c) 2000-2023 the FFmpeg developers\n",
      "  built with gcc 9 (Ubuntu 9.3.0-17ubuntu1~20.04)\n",
      "  configuration: --enable-pthreads --enable-pic --enable-gpl --enable-shared --enable-rpath --arch=amd64 --enable-demuxer=dash --enable-libxml2 --enable-libvvdec --enable-libx264 --enable-libx265 --enable-libvvenc\n",
      "  libavutil      58. 30.100 / 58. 30.100\n",
      "  libavcodec     60. 33.102 / 60. 33.102\n",
      "  libavformat    60. 17.100 / 60. 17.100\n",
      "  libavdevice    60.  4.100 / 60.  4.100\n",
      "  libavfilter     9. 13.100 /  9. 13.100\n",
      "  libswscale      7.  6.100 /  7.  6.100\n",
      "  libswresample   4. 13.100 /  4. 13.100\n",
      "  libpostproc    57.  4.100 / 57.  4.100\n",
      "Input #0, vvc, from '/workspaces/OpenDVCW/workdir/h266/test/output_joined.h266':\n",
      "  Duration: N/A, bitrate: N/A\n",
      "  Stream #0:0: Video: vvc (Main 10), yuv420p10le(tv), 240x240, 25 fps, 30 tbr, 1200k tbn\n",
      "Stream mapping:\n",
      "  Stream #0:0 -> #0:0 (vvc (libvvdec) -> png (native))\n",
      "Press [q] to stop, [?] for help\n",
      "Output #0, image2, to '/workspaces/OpenDVCW/workdir/h266/test/decoded_%04d.png':\n",
      "  Metadata:\n",
      "    encoder         : Lavf60.17.100\n",
      "  Stream #0:0: Video: png, rgb48be(pc, gbr/unknown/unknown, progressive), 240x240, q=2-31, 200 kb/s, 30 fps, 30 tbn\n",
      "    Metadata:\n",
      "      encoder         : Lavc60.33.102 png\n",
      "[out#0/image2 @ 0x5559b19da2c0] video:2321kB audio:0kB subtitle:0kB other streams:0kB global headers:0kB muxing overhead: unknown\n",
      "frame=    7 fps=0.0 q=-0.0 Lsize=N/A time=00:00:00.20 bitrate=N/A speed=3.08x    \n"
     ]
    }
   ],
   "source": [
    "\n",
    "eval_haar = evaluator.Evaluator(bs=1, height=240, width=240,\n",
    "channels=3, input_seq_path=data_set_path + \"HoneyBee_1920x1080_120fps_420_8bit_YUV_RAW/\",\n",
    "workdir=workdir, model_list=model_list_haar, num_of_p_frames=num_of_p_frames,\n",
    "prefix=\"im\", suffix=\".png\", bin_suffix=\".bin\", decom_prefix=\"decom\",\n",
    "tave_path=tave_path,\n",
    "h264_workdir=h264_workdir,\n",
    "h264_bitrate_list=h264_bit_rate,\n",
    "h265_workdir=h265_workdir,\n",
    "h265_bitrate_list=h265_bit_rate,\n",
    "h266_workdir=h266_workdir,\n",
    "h266_bitrate_list=h266_bit_rate,\n",
    "proposed_label=\"Proposed-haar\")\n",
    "eval_haar.h266_test(h266_bit_rate[0])\n"
   ]
  },
  {
   "cell_type": "code",
   "execution_count": 4,
   "metadata": {},
   "outputs": [],
   "source": [
    "# for image_seq_path in input_seq_paths:\n",
    "#     eval_haar = evaluator.Evaluator(bs=1, height=240, width=240,\n",
    "#     channels=3, input_seq_path=image_seq_path,\n",
    "#     workdir=workdir, model_list=model_list_haar, num_of_p_frames=num_of_p_frames,\n",
    "#     prefix=\"im\", suffix=\".png\", bin_suffix=\".bin\", decom_prefix=\"decom\",\n",
    "#     tave_path=tave_path,\n",
    "#     h264_workdir=h264_workdir,\n",
    "#     h264_bitrate_list=h264_bit_rate,\n",
    "#     h265_workdir=h265_workdir,\n",
    "#     h265_bitrate_list=h265_bit_rate,\n",
    "#     h266_workdir=h266_workdir,\n",
    "#     h266_bitrate_list=h266_bit_rate,\n",
    "#     proposed_label=\"Proposed-haar\")\n",
    "#     eval_haar.h264_test()\n",
    "#     eval_haar.eval()\n",
    "#     eval_haar.plot_graph(fig_name=image_seq_path.split(\"/\")[-2] + \"_haar.eps\")\n"
   ]
  },
  {
   "cell_type": "code",
   "execution_count": 5,
   "metadata": {},
   "outputs": [],
   "source": [
    "# for image_seq_path in input_seq_paths:\n",
    "#     eval_haar = evaluator.Evaluator(bs=1, height=240, width=240,\n",
    "#     channels=3, input_seq_path=image_seq_path,\n",
    "#     workdir=workdir, model_list=model_list_db2, num_of_p_frames=num_of_p_frames,\n",
    "#     prefix=\"im\", suffix=\".png\", bin_suffix=\".bin\", decom_prefix=\"decom\",\n",
    "#     tave_path=tave_path,\n",
    "#     h264_workdir=h264_workdir,\n",
    "#     h264_bitrate_list=h264_bit_rate,\n",
    "#     h265_workdir=h265_workdir,\n",
    "#     h265_bitrate_list=h265_bit_rate,\n",
    "#     h266_workdir=h266_workdir,\n",
    "#     h266_bitrate_list=h266_bit_rate,\n",
    "#     proposed_label=\"Proposed-db2\")\n",
    "#     eval_haar.eval()\n",
    "#     eval_haar.plot_graph(fig_name=image_seq_path.split(\"/\")[-2] + \"_db2.eps\")\n"
   ]
  }
 ],
 "metadata": {
  "kernelspec": {
   "display_name": "Python 3 (ipykernel)",
   "language": "python",
   "name": "python3"
  },
  "language_info": {
   "codemirror_mode": {
    "name": "ipython",
    "version": 3
   },
   "file_extension": ".py",
   "mimetype": "text/x-python",
   "name": "python",
   "nbconvert_exporter": "python",
   "pygments_lexer": "ipython3",
   "version": "3.8.10"
  },
  "orig_nbformat": 4,
  "vscode": {
   "interpreter": {
    "hash": "916dbcbb3f70747c44a77c7bcd40155683ae19c65e1c03b4aa3499c5328201f1"
   }
  }
 },
 "nbformat": 4,
 "nbformat_minor": 2
}
