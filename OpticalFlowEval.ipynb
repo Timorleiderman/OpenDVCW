{
 "cells": [
  {
   "cell_type": "code",
   "execution_count": 1,
   "metadata": {},
   "outputs": [
    {
     "data": {
      "text/plain": [
       "'/workspaces/OpenDVCW'"
      ]
     },
     "execution_count": 1,
     "metadata": {},
     "output_type": "execute_result"
    }
   ],
   "source": [
    "%pwd "
   ]
  },
  {
   "cell_type": "code",
   "execution_count": 2,
   "metadata": {},
   "outputs": [
    {
     "name": "stdout",
     "output_type": "stream",
     "text": [
      "/workspaces/OpenDVCW\n"
     ]
    }
   ],
   "source": [
    "# %cd /home/ubu-admin/Developer/tensorflow-wavelets\n",
    "%cd /workspaces/OpenDVCW\n",
    "from train import TrainOpenDVCW\n",
    "import numpy as np\n",
    "import load\n",
    "import OpenDVCW\n",
    "import tensorflow as tf\n",
    "import tensorflow_addons as tfa\n",
    "from tensorflow.keras import optimizers, losses \n",
    "\n",
    "import matplotlib.pyplot as plt\n",
    "import flow_vis\n",
    "import DataGen\n",
    "import time\n",
    "import datetime\n"
   ]
  },
  {
   "cell_type": "code",
   "execution_count": 3,
   "metadata": {},
   "outputs": [],
   "source": [
    "%load_ext tensorboard"
   ]
  },
  {
   "cell_type": "code",
   "execution_count": 4,
   "metadata": {},
   "outputs": [],
   "source": [
    "np_folder = \"train_set_iqp27.npy\"\n",
    "BATCH_SIZE = 4\n",
    "EPOCHS = 10\n",
    "STEPS_PER_EPOCH = 10000\n",
    "HEIGHT = 240\n",
    "WIDTH = 240\n",
    "CHANNLES = 3\n",
    "NUM_FILTERS = 256\n",
    "MV_KERNEL_SIZE=3\n",
    "RES_KERNEL_SIZE=5\n",
    "M=256\n",
    "lmbda = 65536\n",
    "lr_init = 1e-4\n",
    "lr_alpha = 1e-8\n",
    "early_stop = 2\n",
    "I_QP=27\n",
    "wavelet_name = \"haar\"\n",
    "figsize = (20, 20)\n",
    "template = 'Epoch {}, Loss Wavelet: {}, Loss DVC: {}'"
   ]
  },
  {
   "cell_type": "code",
   "execution_count": 5,
   "metadata": {},
   "outputs": [
    {
     "name": "stderr",
     "output_type": "stream",
     "text": [
      "2022-12-22 16:15:54.638628: I tensorflow/stream_executor/cuda/cuda_gpu_executor.cc:975] successful NUMA node read from SysFS had negative value (-1), but there must be at least one NUMA node, so returning NUMA node zero\n",
      "2022-12-22 16:15:54.642035: I tensorflow/stream_executor/cuda/cuda_gpu_executor.cc:975] successful NUMA node read from SysFS had negative value (-1), but there must be at least one NUMA node, so returning NUMA node zero\n",
      "2022-12-22 16:15:54.642135: I tensorflow/stream_executor/cuda/cuda_gpu_executor.cc:975] successful NUMA node read from SysFS had negative value (-1), but there must be at least one NUMA node, so returning NUMA node zero\n",
      "2022-12-22 16:15:54.642368: I tensorflow/core/platform/cpu_feature_guard.cc:193] This TensorFlow binary is optimized with oneAPI Deep Neural Network Library (oneDNN) to use the following CPU instructions in performance-critical operations:  AVX2 FMA\n",
      "To enable them in other operations, rebuild TensorFlow with the appropriate compiler flags.\n",
      "2022-12-22 16:15:54.642732: I tensorflow/stream_executor/cuda/cuda_gpu_executor.cc:975] successful NUMA node read from SysFS had negative value (-1), but there must be at least one NUMA node, so returning NUMA node zero\n",
      "2022-12-22 16:15:54.642820: I tensorflow/stream_executor/cuda/cuda_gpu_executor.cc:975] successful NUMA node read from SysFS had negative value (-1), but there must be at least one NUMA node, so returning NUMA node zero\n",
      "2022-12-22 16:15:54.642897: I tensorflow/stream_executor/cuda/cuda_gpu_executor.cc:975] successful NUMA node read from SysFS had negative value (-1), but there must be at least one NUMA node, so returning NUMA node zero\n",
      "2022-12-22 16:15:54.981768: I tensorflow/stream_executor/cuda/cuda_gpu_executor.cc:975] successful NUMA node read from SysFS had negative value (-1), but there must be at least one NUMA node, so returning NUMA node zero\n",
      "2022-12-22 16:15:54.981917: I tensorflow/stream_executor/cuda/cuda_gpu_executor.cc:975] successful NUMA node read from SysFS had negative value (-1), but there must be at least one NUMA node, so returning NUMA node zero\n",
      "2022-12-22 16:15:54.982065: I tensorflow/stream_executor/cuda/cuda_gpu_executor.cc:975] successful NUMA node read from SysFS had negative value (-1), but there must be at least one NUMA node, so returning NUMA node zero\n",
      "2022-12-22 16:15:54.982135: I tensorflow/core/common_runtime/gpu/gpu_device.cc:1532] Created device /job:localhost/replica:0/task:0/device:GPU:0 with 21642 MB memory:  -> device: 0, name: NVIDIA GeForce RTX 3090, pci bus id: 0000:01:00.0, compute capability: 8.6\n"
     ]
    }
   ],
   "source": [
    "data_gen = DataGen.DataVimeo90kGenerator(np_folder, \n",
    "                                            BATCH_SIZE,\n",
    "                                            (HEIGHT, WIDTH, CHANNLES),\n",
    "                                            CHANNLES,\n",
    "                                            True, \n",
    "                                            I_QP,\n",
    "                                            True,\n",
    "                                            False)\n",
    "\n",
    "inputs1 = tf.keras.Input(shape=(HEIGHT, WIDTH, CHANNLES,))\n",
    "inputs2 = tf.keras.Input(shape=(HEIGHT, WIDTH, CHANNLES,))\n",
    "loss_w, output_w = OpenDVCW.WaveletsOpticalFlow(BATCH_SIZE, HEIGHT, WIDTH,\"haar\")([inputs1, inputs2])\n",
    "loss, output = OpenDVCW.OpticalFlow(BATCH_SIZE, HEIGHT, WIDTH)([inputs1, inputs2])\n",
    "\n",
    "model_w = tf.keras.Model([inputs1, inputs2], [loss_w, output_w])\n",
    "model = tf.keras.Model([inputs1, inputs2], [loss, output])\n",
    "\n",
    "\n"
   ]
  },
  {
   "cell_type": "code",
   "execution_count": 6,
   "metadata": {},
   "outputs": [],
   "source": [
    "\n",
    "metrics_names = ['train_loss','train_loss_w'] \n",
    "\n",
    "train_loss = tf.keras.metrics.Mean(metrics_names[0], dtype=tf.float32)\n",
    "train_loss_w = tf.keras.metrics.Mean(metrics_names[1], dtype=tf.float32)\n",
    "\n",
    "\n",
    "current_time = datetime.datetime.now().strftime(\"%Y%m%d-%H%M%S\")\n",
    "train_log_dir_w = 'logs/gradient_tape/' + current_time + '/train_w'\n",
    "train_log_dir = 'logs/gradient_tape/' + current_time + '/train'\n",
    "train_w_summary_writer = tf.summary.create_file_writer(train_log_dir_w)\n",
    "train_summary_writer = tf.summary.create_file_writer(train_log_dir)"
   ]
  },
  {
   "cell_type": "code",
   "execution_count": 7,
   "metadata": {},
   "outputs": [
    {
     "name": "stdout",
     "output_type": "stream",
     "text": [
      "Model: \"model\"\n",
      "__________________________________________________________________________________________________\n",
      " Layer (type)                   Output Shape         Param #     Connected to                     \n",
      "==================================================================================================\n",
      " input_1 (InputLayer)           [(None, 240, 240, 3  0           []                               \n",
      "                                )]                                                                \n",
      "                                                                                                  \n",
      " input_2 (InputLayer)           [(None, 240, 240, 3  0           []                               \n",
      "                                )]                                                                \n",
      "                                                                                                  \n",
      " wavelets_optical_flow (Wavelet  ((),                240050      ['input_1[0][0]',                \n",
      " sOpticalFlow)                   (None, 240, 240, 2               'input_2[0][0]']                \n",
      "                                ))                                                                \n",
      "                                                                                                  \n",
      "==================================================================================================\n",
      "Total params: 240,050\n",
      "Trainable params: 240,050\n",
      "Non-trainable params: 0\n",
      "__________________________________________________________________________________________________\n"
     ]
    }
   ],
   "source": [
    "model_w.summary()\n"
   ]
  },
  {
   "cell_type": "code",
   "execution_count": 8,
   "metadata": {},
   "outputs": [
    {
     "name": "stdout",
     "output_type": "stream",
     "text": [
      "Model: \"model_1\"\n",
      "__________________________________________________________________________________________________\n",
      " Layer (type)                   Output Shape         Param #     Connected to                     \n",
      "==================================================================================================\n",
      " input_1 (InputLayer)           [(None, 240, 240, 3  0           []                               \n",
      "                                )]                                                                \n",
      "                                                                                                  \n",
      " input_2 (InputLayer)           [(None, 240, 240, 3  0           []                               \n",
      "                                )]                                                                \n",
      "                                                                                                  \n",
      " optical_flow (OpticalFlow)     ((),                 240050      ['input_1[0][0]',                \n",
      "                                 (4, 240, 240, 2))                'input_2[0][0]']                \n",
      "                                                                                                  \n",
      "==================================================================================================\n",
      "Total params: 240,050\n",
      "Trainable params: 240,050\n",
      "Non-trainable params: 0\n",
      "__________________________________________________________________________________________________\n"
     ]
    }
   ],
   "source": [
    "model.summary()"
   ]
  },
  {
   "cell_type": "code",
   "execution_count": 9,
   "metadata": {},
   "outputs": [
    {
     "name": "stdout",
     "output_type": "stream",
     "text": [
      "\n",
      "epoch 1/10\n"
     ]
    },
    {
     "name": "stderr",
     "output_type": "stream",
     "text": [
      "2022-12-22 16:15:57.745793: I tensorflow/stream_executor/cuda/cuda_dnn.cc:384] Loaded cuDNN version 8100\n"
     ]
    }
   ],
   "source": [
    "from IPython.display import clear_output\n",
    "\n",
    "# Instantiate an optimizer.\n",
    "optimizer_w = tf.keras.optimizers.Adam(learning_rate=lr_init)\n",
    "optimizer = tf.keras.optimizers.Adam(learning_rate=lr_init)\n",
    "num_of_training_samples = STEPS_PER_EPOCH\n",
    "\n",
    "# Iterate over the batches of a dataset.\n",
    "for epoch in range(EPOCHS):\n",
    "    print(\"\\nepoch {}/{}\".format(epoch+1, EPOCHS))\n",
    "    \n",
    "    progBar = tf.keras.utils.Progbar(num_of_training_samples, stateful_metrics=metrics_names)\n",
    "    cnt = 0\n",
    "    for x, y in data_gen:\n",
    "\n",
    "        # Open a GradientTape.\n",
    "        with tf.GradientTape() as tape:\n",
    "            # Forward pass.\n",
    "            loss_value, logits = model(x)\n",
    "            # Loss value for this batch.\n",
    "        # Get gradients of loss wrt the weights.\n",
    "        gradients = tape.gradient(loss_value, model.trainable_weights)\n",
    "        # print(loss_value)\n",
    "        # Update the weights of the model.\n",
    "        optimizer.apply_gradients(zip(gradients, model.trainable_weights))\n",
    "        train_loss(loss_value)\n",
    "        \n",
    "        with tf.GradientTape() as tape_w:\n",
    "            # Forward pass.\n",
    "            loss_value_w, logits_w = model_w(x)\n",
    "            # Loss value for this batch.\n",
    "        # Get gradients of loss wrt the weights.\n",
    "        gradients_w = tape_w.gradient(loss_value_w, model_w.trainable_weights)\n",
    "        # print(loss_value)\n",
    "        # Update the weights of the model.\n",
    "        optimizer_w.apply_gradients(zip(gradients_w, model_w.trainable_weights))\n",
    "        train_loss_w(loss_value_w)\n",
    "        cnt += 1\n",
    "        if cnt == STEPS_PER_EPOCH:\n",
    "            break\n",
    "        \n",
    "        values=[('train_loss',train_loss.result()), ('train_loss_w',train_loss_w.result())]\n",
    "        progBar.update(cnt, values=values) \n",
    "        \n",
    "    with train_summary_writer.as_default():\n",
    "        tf.summary.scalar('loss', train_loss.result(), step=(epoch+1)*(cnt))\n",
    "        \n",
    "    with train_w_summary_writer.as_default():\n",
    "        tf.summary.scalar('loss', train_loss_w.result(), step=(epoch+1)*(cnt))\n",
    "    \n",
    "            \n",
    "    clear_output(wait=True)  \n",
    "    print(template.format(epoch+1,loss_value_w, loss_value))     \n",
    "    fig, ax = plt.subplots(2,2, figsize=figsize)\n",
    "    flow = logits\n",
    "    flow_color = flow_vis.flow_to_color(flow[0], convert_to_bgr=True)\n",
    "    ax[0,0].imshow(x[0][0])\n",
    "    ax[0,1].imshow(x[1][0])\n",
    "    ax[1,0].imshow(flow_color)\n",
    "    flow_w = logits_w\n",
    "    flow_color_w = flow_vis.flow_to_color(flow_w[0], convert_to_bgr=True)\n",
    "    ax[1,1].imshow(flow_color_w)\n",
    "    plt.show()\n",
    "    progBar.update(num_training_samples, values=values, finalize=True)\n",
    "    "
   ]
  },
  {
   "cell_type": "code",
   "execution_count": null,
   "metadata": {},
   "outputs": [],
   "source": []
  }
 ],
 "metadata": {
  "interpreter": {
   "hash": "31f2aee4e71d21fbe5cf8b01ff0e069b9275f58929596ceb00d14d90e3e16cd6"
  },
  "kernelspec": {
   "display_name": "Python 3.8.10 64-bit",
   "language": "python",
   "name": "python3"
  },
  "language_info": {
   "codemirror_mode": {
    "name": "ipython",
    "version": 3
   },
   "file_extension": ".py",
   "mimetype": "text/x-python",
   "name": "python",
   "nbconvert_exporter": "python",
   "pygments_lexer": "ipython3",
   "version": "3.8.10"
  },
  "orig_nbformat": 4
 },
 "nbformat": 4,
 "nbformat_minor": 2
}
