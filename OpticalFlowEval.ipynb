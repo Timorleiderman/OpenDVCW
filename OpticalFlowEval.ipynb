{
 "cells": [
  {
   "cell_type": "code",
   "execution_count": null,
   "metadata": {},
   "outputs": [],
   "source": [
    "%pwd "
   ]
  },
  {
   "cell_type": "code",
   "execution_count": null,
   "metadata": {},
   "outputs": [],
   "source": [
    "# %cd /home/ubu-admin/Developer/tensorflow-wavelets\n",
    "%cd /workspaces/OpenDVCW\n",
    "from train import TrainOpenDVCW\n",
    "import numpy as np\n",
    "import load\n",
    "import OpenDVCW\n",
    "import tensorflow as tf\n",
    "import tensorflow_addons as tfa\n",
    "from tensorflow.keras import optimizers, losses \n",
    "\n",
    "import matplotlib.pyplot as plt\n",
    "import flow_vis\n",
    "import DataGen\n",
    "import time\n",
    "import datetime\n"
   ]
  },
  {
   "cell_type": "code",
   "execution_count": null,
   "metadata": {},
   "outputs": [],
   "source": [
    "%load_ext tensorboard"
   ]
  },
  {
   "cell_type": "code",
   "execution_count": null,
   "metadata": {},
   "outputs": [],
   "source": [
    "np_folder = \"train_set_iqp27.npy\"\n",
    "BATCH_SIZE = 32\n",
    "EPOCHS = 10\n",
    "STEPS_PER_EPOCH = 10000\n",
    "HEIGHT = 240\n",
    "WIDTH = 240\n",
    "CHANNLES = 3\n",
    "NUM_FILTERS = 256\n",
    "MV_KERNEL_SIZE=3\n",
    "RES_KERNEL_SIZE=5\n",
    "M=256\n",
    "lmbda = 65536\n",
    "lr_init = 1e-4\n",
    "lr_alpha = 1e-8\n",
    "early_stop = 2\n",
    "I_QP=27\n",
    "wavelet_name = \"haar\"\n",
    "figsize = (20, 20)\n",
    "template = 'Epoch {}, Loss Wavelet: {}, Loss DVC: {}'"
   ]
  },
  {
   "cell_type": "code",
   "execution_count": null,
   "metadata": {},
   "outputs": [],
   "source": [
    "data_gen = DataGen.DataVimeo90kGenerator(np_folder, \n",
    "                                            BATCH_SIZE,\n",
    "                                            (HEIGHT, WIDTH, CHANNLES),\n",
    "                                            CHANNLES,\n",
    "                                            True, \n",
    "                                            I_QP,\n",
    "                                            True,\n",
    "                                            False)\n",
    "\n",
    "inputs1 = tf.keras.Input(shape=(HEIGHT, WIDTH, CHANNLES,))\n",
    "inputs2 = tf.keras.Input(shape=(HEIGHT, WIDTH, CHANNLES,))\n",
    "loss_w, output_w = OpenDVCW.WaveletsOpticalFlow(BATCH_SIZE, HEIGHT, WIDTH,\"haar\")([inputs1, inputs2])\n",
    "loss, output = OpenDVCW.OpticalFlow(BATCH_SIZE, HEIGHT, WIDTH)([inputs1, inputs2])\n",
    "\n",
    "model_w = tf.keras.Model([inputs1, inputs2], [loss_w, output_w])\n",
    "model = tf.keras.Model([inputs1, inputs2], [loss, output])\n",
    "\n",
    "\n"
   ]
  },
  {
   "cell_type": "code",
   "execution_count": null,
   "metadata": {},
   "outputs": [],
   "source": [
    "\n",
    "metrics_names = ['train_loss','train_loss_w'] \n",
    "\n",
    "train_loss = tf.keras.metrics.Mean(metrics_names[0], dtype=tf.float32)\n",
    "train_loss_w = tf.keras.metrics.Mean(metrics_names[1], dtype=tf.float32)\n",
    "\n",
    "\n",
    "current_time = datetime.datetime.now().strftime(\"%Y%m%d-%H%M%S\")\n",
    "train_log_dir_w = 'logs/gradient_tape/' + current_time + '/train_w'\n",
    "train_log_dir = 'logs/gradient_tape/' + current_time + '/train'\n",
    "train_w_summary_writer = tf.summary.create_file_writer(train_log_dir_w)\n",
    "train_summary_writer = tf.summary.create_file_writer(train_log_dir)"
   ]
  },
  {
   "cell_type": "code",
   "execution_count": null,
   "metadata": {},
   "outputs": [],
   "source": [
    "model_w.summary()\n"
   ]
  },
  {
   "cell_type": "code",
   "execution_count": null,
   "metadata": {},
   "outputs": [],
   "source": [
    "model.summary()"
   ]
  },
  {
   "cell_type": "code",
   "execution_count": null,
   "metadata": {},
   "outputs": [],
   "source": [
    "from IPython.display import clear_output\n",
    "\n",
    "# Instantiate an optimizer.\n",
    "optimizer_w = tf.keras.optimizers.Adam(learning_rate=lr_init)\n",
    "optimizer = tf.keras.optimizers.Adam(learning_rate=lr_init)\n",
    "num_of_training_samples = STEPS_PER_EPOCH\n",
    "\n",
    "# Iterate over the batches of a dataset.\n",
    "for epoch in range(EPOCHS):\n",
    "    print(\"\\nepoch {}/{}\".format(epoch+1, EPOCHS))\n",
    "    \n",
    "    progBar = tf.keras.utils.Progbar(num_of_training_samples, stateful_metrics=metrics_names)\n",
    "    cnt = 0\n",
    "    for x, y in data_gen:\n",
    "\n",
    "        # Open a GradientTape.\n",
    "        with tf.GradientTape() as tape:\n",
    "            # Forward pass.\n",
    "            loss_value, logits = model(x)\n",
    "            # Loss value for this batch.\n",
    "        # Get gradients of loss wrt the weights.\n",
    "        gradients = tape.gradient(loss_value, model.trainable_weights)\n",
    "        # print(loss_value)\n",
    "        # Update the weights of the model.\n",
    "        optimizer.apply_gradients(zip(gradients, model.trainable_weights))\n",
    "        train_loss(loss_value)\n",
    "        \n",
    "        with tf.GradientTape() as tape_w:\n",
    "            # Forward pass.\n",
    "            loss_value_w, logits_w = model_w(x)\n",
    "            # Loss value for this batch.\n",
    "        # Get gradients of loss wrt the weights.\n",
    "        gradients_w = tape_w.gradient(loss_value_w, model_w.trainable_weights)\n",
    "        # print(loss_value)\n",
    "        # Update the weights of the model.\n",
    "        optimizer_w.apply_gradients(zip(gradients_w, model_w.trainable_weights))\n",
    "        train_loss_w(loss_value_w)\n",
    "        cnt += 1\n",
    "        if cnt == STEPS_PER_EPOCH:\n",
    "            break\n",
    "        \n",
    "        values=[('train_loss',loss_value), ('train_loss_w',loss_value_w)]\n",
    "        progBar.update(cnt, values=values) \n",
    "        \n",
    "    with train_summary_writer.as_default():\n",
    "        tf.summary.scalar('loss', train_loss.result(), step=(epoch+1)*(cnt))\n",
    "        \n",
    "    with train_w_summary_writer.as_default():\n",
    "        tf.summary.scalar('loss', train_loss_w.result(), step=(epoch+1)*(cnt))\n",
    "    \n",
    "            \n",
    "    clear_output(wait=True)  \n",
    "    print(template.format(epoch+1,loss_value_w, loss_value))     \n",
    "    fig, ax = plt.subplots(2,2, figsize=figsize)\n",
    "    flow = logits\n",
    "    flow_color = flow_vis.flow_to_color(flow[0], convert_to_bgr=True)\n",
    "    ax[0,0].imshow(x[0][0])\n",
    "    ax[0,1].imshow(x[1][0])\n",
    "    ax[1,0].imshow(flow_color)\n",
    "    flow_w = logits_w\n",
    "    flow_color_w = flow_vis.flow_to_color(flow_w[0], convert_to_bgr=True)\n",
    "    ax[1,1].imshow(flow_color_w)\n",
    "    plt.show()\n",
    "    progBar.update(num_training_samples, values=values, finalize=True)\n",
    "    "
   ]
  },
  {
   "cell_type": "code",
   "execution_count": null,
   "metadata": {},
   "outputs": [],
   "source": []
  }
 ],
 "metadata": {
  "interpreter": {
   "hash": "31f2aee4e71d21fbe5cf8b01ff0e069b9275f58929596ceb00d14d90e3e16cd6"
  },
  "kernelspec": {
   "display_name": "Python 3.8.10 64-bit",
   "language": "python",
   "name": "python3"
  },
  "language_info": {
   "codemirror_mode": {
    "name": "ipython",
    "version": 3
   },
   "file_extension": ".py",
   "mimetype": "text/x-python",
   "name": "python",
   "nbconvert_exporter": "python",
   "pygments_lexer": "ipython3",
   "version": "3.8.10"
  },
  "orig_nbformat": 4
 },
 "nbformat": 4,
 "nbformat_minor": 2
}
